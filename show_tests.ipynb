{
 "cells": [
  {
   "cell_type": "markdown",
   "metadata": {},
   "source": [
    "# BBC "
   ]
  },
  {
   "cell_type": "markdown",
   "metadata": {},
   "source": [
    "## SOS"
   ]
  },
  {
   "cell_type": "markdown",
   "metadata": {},
   "source": [
    "### Read pkl files"
   ]
  },
  {
   "cell_type": "markdown",
   "metadata": {},
   "source": [
    "### Points \n",
    "  *  10 simulations were used for each iteration number, and the best fitness was taken among them for each algorithm.\n",
    "\n",
    "  * The rank is displayed for each algorithm based on the average evaluation metric values for each and all data sets\n",
    "  \n",
    "  * Table 4 shows the mean and standard deviation results for all iteration numbers and their performance ranks for all clustering algorithms"
   ]
  },
  {
   "cell_type": "code",
   "execution_count": 19,
   "metadata": {},
   "outputs": [],
   "source": [
    "import os\n",
    "import pickle\n",
    "# Specify the folder path\n",
    "folder_path = \"/media/alireza/SSD1/arshad_hosh/Thesis/ThesisCode/BBCResults\"\n",
    "\n",
    "def loader(folder_path:None):\n",
    "    # Get a list of all files in the folder\n",
    "    files = os.listdir(folder_path)\n",
    "    all_res  = {}\n",
    "    i = 0\n",
    "    # Iterate through each file in the folder\n",
    "    for file in files:\n",
    "        # Construct the full file path\n",
    "        file_path = os.path.join(folder_path, file)\n",
    "\n",
    "        # Check if the file is a regular file (not a directory)\n",
    "        if os.path.isfile(file_path):\n",
    "            # Open the file in read mode\n",
    "            if os.path.basename(file_path).startswith(\"sos\"):\n",
    "                num_doc =  os.path.basename(file_path).split(\"_\")[6]\n",
    "                with open(file_path, 'rb') as f:\n",
    "                    # Read the file contents\n",
    "                    match num_doc :\n",
    "                        case \"40\":\n",
    "                            all_res[\"40\"] = pickle.load(f)\n",
    "                        case \"100\":\n",
    "                            all_res[\"100\"] = pickle.load(f)\n",
    "                        case \"737\":\n",
    "                            all_res[\"737\"] = pickle.load(f)\n",
    "                    i += 1\n",
    "    return all_res"
   ]
  },
  {
   "cell_type": "code",
   "execution_count": 20,
   "metadata": {},
   "outputs": [
    {
     "data": {
      "text/plain": [
       "0.725"
      ]
     },
     "execution_count": 20,
     "metadata": {},
     "output_type": "execute_result"
    }
   ],
   "source": [
    "all_res = loader(folder_path)\n",
    "all_res[\"40\"][0][\"g_best\"].target.fitness"
   ]
  },
  {
   "cell_type": "code",
   "execution_count": 21,
   "metadata": {},
   "outputs": [],
   "source": [
    "##                                                40 doc      100 doc    737 doc\n",
    "sos_dataset_40 , sos_dataset_100 , sos_dataset_737  = all_res[\"40\"] , all_res[\"100\"] ,all_res[\"737\"]\n"
   ]
  },
  {
   "cell_type": "code",
   "execution_count": 22,
   "metadata": {},
   "outputs": [
    {
     "data": {
      "text/plain": [
       "[0.725, 0.925, 0.825, 0.9]"
      ]
     },
     "execution_count": 22,
     "metadata": {},
     "output_type": "execute_result"
    }
   ],
   "source": [
    "list(all_res[\"40\"][i][\"g_best\"].target.fitness\n",
    "                          for i in range(len(all_res[\"40\"])))"
   ]
  },
  {
   "cell_type": "markdown",
   "metadata": {},
   "source": [
    "---"
   ]
  },
  {
   "cell_type": "code",
   "execution_count": 23,
   "metadata": {},
   "outputs": [],
   "source": [
    "import numpy as np\n",
    "def return_results_of_dataset(dataset_res):\n",
    "    len_dt = len(dataset_res)\n",
    "    best_value_sos_dt  = max(dataset_res[i][\"g_best\"].target.fitness\n",
    "                          for i in range(len_dt))\n",
    "    mean_value_sos_dt = np.mean(list(dataset_res[i][\"g_best\"].target.fitness\n",
    "                          for i in range(len_dt)))\n",
    "    std_value_sos_dt = np.std(list(dataset_res[i][\"g_best\"].target.fitness\n",
    "                          for i in range(len_dt)))\n",
    "    \n",
    "    return best_value_sos_dt , mean_value_sos_dt , std_value_sos_dt"
   ]
  },
  {
   "cell_type": "code",
   "execution_count": 24,
   "metadata": {},
   "outputs": [],
   "source": [
    "best_value_sos_dt_100doc , mean_value_sos_dt_100doc , std_value_sos_dt_100doc  = return_results_of_dataset(sos_dataset_100)"
   ]
  },
  {
   "cell_type": "code",
   "execution_count": 25,
   "metadata": {},
   "outputs": [
    {
     "data": {
      "text/plain": [
       "(1.0, 1.0, 0.0)"
      ]
     },
     "execution_count": 25,
     "metadata": {},
     "output_type": "execute_result"
    }
   ],
   "source": [
    "best_value_sos_dt_100doc , mean_value_sos_dt_100doc , std_value_sos_dt_100doc"
   ]
  },
  {
   "cell_type": "markdown",
   "metadata": {},
   "source": [
    "---"
   ]
  },
  {
   "cell_type": "code",
   "execution_count": 26,
   "metadata": {},
   "outputs": [],
   "source": [
    "del sos_dataset_737[4]"
   ]
  },
  {
   "cell_type": "code",
   "execution_count": 27,
   "metadata": {},
   "outputs": [
    {
     "data": {
      "text/plain": [
       "[0.9131614654002713,\n",
       " 0.9240162822252375,\n",
       " 0.8616010854816825,\n",
       " 0.9484396200814111,\n",
       " 0.9647218453188603]"
      ]
     },
     "execution_count": 27,
     "metadata": {},
     "output_type": "execute_result"
    }
   ],
   "source": [
    "list(sos_dataset_737[i][\"g_best\"].target.fitness\n",
    "                          for i in range(len(sos_dataset_737)))"
   ]
  },
  {
   "cell_type": "code",
   "execution_count": 28,
   "metadata": {},
   "outputs": [
    {
     "data": {
      "text/plain": [
       "(0.9647218453188603, 0.9223880597014926, 0.03536571952813009)"
      ]
     },
     "execution_count": 28,
     "metadata": {},
     "output_type": "execute_result"
    }
   ],
   "source": [
    "best_value_sos_dt_737doc , mean_value_sos_dt_737doc , std_value_sos_dt_737doc  = return_results_of_dataset(sos_dataset_737)\n",
    "best_value_sos_dt_737doc , mean_value_sos_dt_737doc , std_value_sos_dt_737doc"
   ]
  },
  {
   "cell_type": "markdown",
   "metadata": {},
   "source": [
    "---"
   ]
  },
  {
   "cell_type": "code",
   "execution_count": 29,
   "metadata": {},
   "outputs": [],
   "source": [
    "del sos_dataset_40[0]"
   ]
  },
  {
   "cell_type": "code",
   "execution_count": 30,
   "metadata": {},
   "outputs": [
    {
     "data": {
      "text/plain": [
       "[0.925, 0.825, 0.9]"
      ]
     },
     "execution_count": 30,
     "metadata": {},
     "output_type": "execute_result"
    }
   ],
   "source": [
    "list(sos_dataset_40[i][\"g_best\"].target.fitness\n",
    "                          for i in range(len(sos_dataset_40)))"
   ]
  },
  {
   "cell_type": "code",
   "execution_count": 31,
   "metadata": {},
   "outputs": [
    {
     "data": {
      "text/plain": [
       "(0.925, 0.8833333333333333, 0.04249182927993991)"
      ]
     },
     "execution_count": 31,
     "metadata": {},
     "output_type": "execute_result"
    }
   ],
   "source": [
    "best_value_sos_dt_40doc , mean_value_sos_dt_40doc , std_value_sos_dt_40doc  = return_results_of_dataset(sos_dataset_40)\n",
    "best_value_sos_dt_40doc , mean_value_sos_dt_40doc , std_value_sos_dt_40doc"
   ]
  },
  {
   "cell_type": "markdown",
   "metadata": {},
   "source": [
    "---"
   ]
  },
  {
   "cell_type": "code",
   "execution_count": 32,
   "metadata": {},
   "outputs": [
    {
     "data": {
      "text/plain": [
       "[{'hy_pa': (100, 20, 60),\n",
       "  'g_best': id: 453, target: Objectives: [0.925], Fitness: 0.925, solution: [ 0.1562036  -0.07915621 -0.03711396 -0.03634748 -0.03255974  0.00118194\n",
       "    0.00294015  0.03646948 -0.00859346 -0.01558313 -0.05255327 -0.03822141\n",
       "   -0.06275309 -0.03296967 -0.04785769 -0.02057877  0.01003911 -0.01046754\n",
       "   -0.0078257  -0.02794018  0.03390445  0.05436463 -0.00902015  0.00422176\n",
       "    0.00803162  0.00585592 -0.01671057 -0.01112297 -0.04971371 -0.04009261\n",
       "    0.01031979 -0.01267217 -0.02288149  0.00395753  0.00226812 -0.01634465\n",
       "   -0.01310689 -0.01420259 -0.01934013 -0.00288249  0.11071636 -0.04546034\n",
       "    0.02199938  0.01791303 -0.19568102  0.00035531 -0.03680342  0.04603786\n",
       "    0.00422463  0.04077601  0.01290298  0.01308578  0.02599036 -0.06199559\n",
       "    0.01181865 -0.10081172 -0.0111699  -0.02583112  0.01348752 -0.03667825\n",
       "   -0.03842822  0.04638601 -0.02271051 -0.01532853  0.05313149  0.01592085\n",
       "    0.13948299 -0.03071535 -0.03142069  0.0451685  -0.01147506  0.01175791\n",
       "    0.04717479 -0.04244192 -0.00184819  0.10140095  0.01281268 -0.00111957\n",
       "    0.05216613  0.00576167  0.13376294  0.0062585   0.24512272 -0.02787014\n",
       "    0.01514586 -0.01786306 -0.02921688 -0.05149225  0.03101234 -0.04133314\n",
       "   -0.08329989  0.0162532  -0.00824088  0.01324881 -0.0213949  -0.03065283\n",
       "   -0.00440055  0.03230542 -0.00592148 -0.02545489 -0.02988083 -0.00996581\n",
       "    0.02941465  0.00948778 -0.02144114 -0.01401174 -0.02681288 -0.0159616\n",
       "   -0.00217759  0.03089984 -0.00340173 -0.00767134 -0.05957837  0.03218961\n",
       "   -0.02246688 -0.01499612 -0.00270217 -0.00979778 -0.00251863  0.01041461\n",
       "    0.1523363   0.04401579 -0.01218405  0.01848531  0.00214753 -0.0006213\n",
       "    0.02937137  0.00985481 -0.05437658 -0.0310551  -0.05016144  0.02815971\n",
       "   -0.12107009 -0.02603637  0.03706459 -0.01670507  0.00371948  0.06030938\n",
       "   -0.03837552  0.06125685 -0.02613535 -0.048727    0.00729484 -0.01022433\n",
       "   -0.00122175  0.00073438  0.00388299  0.04195751 -0.02859515 -0.03880052\n",
       "   -0.06630402  0.00506996  0.01964322  0.02375762 -0.09935215 -0.05100711\n",
       "   -0.01213739  0.01123668 -0.02767616 -0.00322195  0.15415328  0.07499424\n",
       "    0.00432969  0.0425518  -0.11495978  0.02930539 -0.01194157  0.06396718\n",
       "    0.030102   -0.00178078  0.00400201  0.05240959  0.05010568 -0.07283815\n",
       "    0.05090675 -0.0402855   0.17243583  0.13541912 -0.05710995 -0.0374586\n",
       "   -0.01545285 -0.01292494 -0.01586428  0.04527913 -0.04779762 -0.03774579\n",
       "   -0.04571382 -0.00895085 -0.0359314   0.02420436  0.01744563  0.03225445\n",
       "   -0.13150765  0.27099495  0.01337134  0.04886344 -0.02136517  0.17768678\n",
       "    0.0295439   0.0478814 ],\n",
       "  'elapsed': 20.456258296966553,\n",
       "  'run': 1},\n",
       " {'hy_pa': (100, 30, 100),\n",
       "  'g_best': id: 690, target: Objectives: [0.825], Fitness: 0.825, solution: [ 2.08129203e-01 -9.51475903e-03 -2.49363008e-01 -3.10923730e-02\n",
       "    6.19563971e-02  1.53159644e-02  1.45315372e-01  4.96997405e-02\n",
       "    1.54638343e-01 -2.80178575e-01  4.35881777e-02 -3.95266453e-02\n",
       "   -4.90954028e-02 -1.66578126e-01  5.12769036e-02 -1.59709238e-01\n",
       "   -1.80601952e-01  1.06629590e-01  2.35624275e-03  1.07324762e-01\n",
       "   -7.79240903e-02 -2.90525772e-01  5.62418285e-03 -5.29528312e-02\n",
       "   -7.26863868e-02  1.52877341e-01 -1.19451034e-01  7.60068101e-02\n",
       "    4.02834636e-02 -6.46819113e-02 -1.71291643e-01  3.98337336e-02\n",
       "   -2.35361309e-01 -1.80036500e-01 -2.00804047e-02  2.57003198e-02\n",
       "    2.98543392e-02 -1.74348626e-01 -3.52248112e-02 -5.17122887e-02\n",
       "    2.51349930e-01  1.85225969e-04 -1.59402327e-01 -3.88882361e-02\n",
       "   -1.72021122e-01 -6.43136144e-02  2.99426939e-02 -2.89514351e-02\n",
       "    5.56996692e-02  9.03008488e-02  1.74611118e-01 -6.02881711e-02\n",
       "   -1.20617749e-01  6.18050200e-02 -4.97427365e-02  7.84696423e-02\n",
       "   -9.24974430e-02 -1.71697617e-01 -1.46548366e-01 -5.30520361e-02\n",
       "    8.47668541e-03 -1.30179964e-01 -7.84153856e-02  9.41138747e-02\n",
       "    9.09357622e-03  5.46919318e-02 -7.46777813e-02 -1.53817906e-02\n",
       "   -5.98779585e-02 -9.89541134e-03  1.78334508e-02 -1.14319137e-01\n",
       "    1.20258170e-01 -1.56078253e-02 -1.80657706e-02 -7.91237933e-02\n",
       "    2.35497691e-02 -1.74748098e-01 -1.89621514e-02 -3.64991852e-04\n",
       "    2.84187135e-01 -3.64598258e-03 -8.71099815e-02  4.20944846e-01\n",
       "    1.20430675e-01  3.93519634e-02 -1.07160807e-01 -7.42151885e-02\n",
       "   -1.00641350e-01 -7.29972156e-02  1.40386608e-01  8.23035981e-02\n",
       "    8.14820808e-02  3.71069534e-02 -6.83257389e-02  5.89209765e-02\n",
       "    1.17906472e-01 -6.92814899e-02 -4.94205849e-02 -1.02385422e-01\n",
       "    1.67647373e-01  9.99697455e-02  1.44173446e-01 -3.74064305e-02\n",
       "   -1.59371173e-01  7.85067305e-02  2.37001149e-01  1.68569523e-01\n",
       "   -2.08619477e-02 -8.19698510e-03 -7.80819775e-03  4.22432977e-02\n",
       "    1.25618812e-01 -3.13471275e-03 -8.96327083e-02  2.57768114e-02\n",
       "   -8.01188642e-02 -1.38755665e-01  2.88659335e-02  5.27838498e-06\n",
       "    1.91266283e-01 -8.37054043e-03  1.54721510e-01 -9.96039121e-02\n",
       "    8.89220725e-02  1.12035782e-01  8.16063108e-02 -1.76637523e-02\n",
       "   -4.98976576e-02  1.72366982e-01  8.70287609e-02 -9.77491585e-03\n",
       "   -7.84121055e-02 -7.15271934e-04  1.48871364e-02 -1.54729882e-02\n",
       "    1.36507972e-01 -4.21328860e-02 -1.05412338e-01  6.97614449e-02\n",
       "   -2.21536027e-03 -5.51433572e-02 -1.04947135e-02  5.69039468e-02\n",
       "    1.23970579e-01 -6.43869371e-02  9.64546289e-02  3.89613087e-03\n",
       "   -1.08559293e-01 -8.36728490e-02 -8.59314955e-02 -5.52494721e-02\n",
       "    9.26210107e-02 -6.45672672e-02 -1.02010246e-01 -8.93854340e-02\n",
       "    9.53146541e-02  5.06372300e-02  1.65815973e-02  9.11652479e-06\n",
       "    1.99943701e-01  7.50001250e-01  4.66941270e-02 -4.23317453e-02\n",
       "    1.61676568e-01  1.32218555e-02 -1.91905214e-01 -2.16780523e-01\n",
       "    1.44176633e-01  1.64398283e-01  1.41804401e-01  3.51786729e-02\n",
       "    2.01738629e-02  1.12117848e-02  6.07553110e-02 -9.95718164e-02\n",
       "   -1.30803190e-01  1.26531786e-01  1.78217036e-01  1.78579252e-01\n",
       "    9.07744845e-03 -1.07773587e-01 -6.13330471e-03  3.28035190e-01\n",
       "    4.86590054e-02 -1.11213785e-01  1.55738244e-01  2.73189464e-01\n",
       "   -4.28766990e-02  5.45483602e-03  1.89886885e-02  2.07629179e-01\n",
       "   -5.73615840e-02  1.77592177e-01  1.97876157e-01  4.40556774e-02\n",
       "    3.40608849e-01  1.36437860e-01  2.14629223e-01  4.14273650e-02],\n",
       "  'elapsed': 29.725059509277344,\n",
       "  'run': 0},\n",
       " {'hy_pa': (100, 30, 100),\n",
       "  'g_best': id: 927, target: Objectives: [0.9], Fitness: 0.9, solution: [ 1.31577952e-01 -3.92793436e-02  1.61951514e-02 -1.97203596e-02\n",
       "    2.15898617e-01 -7.29670940e-03  1.29071397e-02 -4.42385450e-02\n",
       "   -1.16847020e-01 -1.37571225e-01  1.05153952e-02 -3.61464927e-02\n",
       "    6.22935686e-02  2.45832521e-02 -6.35945123e-02  3.18641582e-03\n",
       "    1.61951832e-03  3.65920312e-02 -4.08045199e-03  1.45925431e-04\n",
       "   -1.09351010e-01  8.53260176e-03  1.16392447e-02 -1.65986530e-02\n",
       "   -3.99252849e-02 -4.03237612e-03  1.44278671e-02  4.35784438e-03\n",
       "   -9.36682638e-03 -5.00325251e-05 -5.40410669e-02 -4.30801535e-02\n",
       "   -4.01944408e-02 -1.39404588e-02  6.05516913e-02 -6.41683169e-02\n",
       "   -7.56186277e-03 -9.30204342e-02 -3.86491523e-02 -1.45326450e-02\n",
       "    1.60385458e-01 -2.67856118e-02  2.74779436e-03  3.94097253e-02\n",
       "   -4.48528760e-03 -2.47635251e-02  1.13410539e-03 -8.30749311e-03\n",
       "    1.29157488e-02 -2.38722883e-03 -1.90092883e-02 -2.24755665e-02\n",
       "    1.33207027e-02 -7.61188884e-03 -6.01250608e-03  2.85133529e-02\n",
       "    1.34055819e-02  9.08284821e-03 -1.45023800e-02 -2.44842850e-02\n",
       "    1.76664358e-03  3.11921002e-02 -1.37217343e-02  1.81295416e-02\n",
       "   -8.95335902e-04  8.27817624e-03  1.14173492e-02  7.41960326e-03\n",
       "   -4.24508004e-03 -4.84698668e-03 -1.42511702e-02  1.05348949e-02\n",
       "    9.59507384e-03  3.91886881e-04 -1.18698085e-02 -1.30934566e-02\n",
       "   -9.21795576e-03  3.75059548e-02  7.94612059e-03  2.14062265e-03\n",
       "    1.78728063e-01  1.65616729e-02  2.42507192e-02 -8.36791365e-02\n",
       "    3.90636207e-02  4.23520213e-05  1.41243898e-02 -7.99585774e-03\n",
       "    4.29772233e-02 -2.08280340e-03 -1.20426895e-02 -9.77033978e-04\n",
       "    1.90992802e-02  2.96533652e-02 -1.49317524e-02  2.39122259e-03\n",
       "   -8.04298730e-03  5.79763736e-03 -1.79042765e-02  4.30777887e-02\n",
       "    1.54085646e-02  1.41585908e-02  2.10685060e-02  2.43274922e-02\n",
       "    1.01928866e-02  7.72724285e-03  6.78954650e-03  1.09679694e-02\n",
       "   -1.05675573e-02 -6.22982039e-03  1.63530685e-02 -5.80435789e-03\n",
       "   -2.09682941e-02  1.39555820e-02 -1.35231125e-02 -1.82295594e-02\n",
       "   -1.32120239e-02 -1.04544643e-03  7.64544237e-03  2.52851188e-03\n",
       "    1.85534318e-01 -2.84185035e-02  4.78209066e-02  2.18282094e-02\n",
       "   -1.87844275e-03  8.66590996e-03  8.63377174e-03  3.91790071e-02\n",
       "   -3.02411671e-02  4.92421612e-03  1.42112825e-02  1.85196661e-03\n",
       "    1.23081900e-02  1.28153692e-02 -1.41771851e-02 -2.62628000e-02\n",
       "    1.16099098e-02  1.60213733e-03  4.43823550e-02  1.14688831e-02\n",
       "   -8.24581077e-03 -3.67355182e-02 -3.18315537e-02  1.72089811e-02\n",
       "    2.27590076e-02 -1.09326237e-02  6.51391067e-03  6.83020844e-02\n",
       "   -1.58110663e-02 -9.05148714e-03 -1.39663262e-02  1.20649134e-02\n",
       "    1.15176211e-02  3.16029897e-02  8.93673534e-03  3.15778838e-02\n",
       "    1.83839275e-02 -2.16078362e-02  3.47893000e-02  1.31387054e-03\n",
       "    2.04241739e-01  5.30182368e-02  5.02425442e-02 -2.10798675e-02\n",
       "    8.21556893e-03  3.44478892e-02  1.14495165e-02  2.84100123e-03\n",
       "    3.27705225e-02  2.82331764e-02 -1.09795578e-02 -1.38036038e-03\n",
       "    3.65010969e-02  1.43858181e-02  2.88268060e-03 -3.71068159e-03\n",
       "    1.68873481e-02 -2.79859932e-02  2.01649756e-02  9.52515420e-03\n",
       "    3.26791654e-02 -8.71874559e-03  1.70854647e-02  2.54389415e-02\n",
       "    6.90884569e-03  1.56343026e-02  5.46410055e-03  4.78712701e-02\n",
       "    2.00890358e-02  3.66303086e-03 -8.46169345e-04 -1.27902219e-02\n",
       "    2.58720796e-03 -2.10684107e-03  2.16037358e-03 -9.66989920e-03\n",
       "   -8.38755278e-03 -1.18795299e-02 -2.62607012e-03  7.59989459e-03],\n",
       "  'elapsed': 29.48894453048706,\n",
       "  'run': 1}]"
      ]
     },
     "execution_count": 32,
     "metadata": {},
     "output_type": "execute_result"
    }
   ],
   "source": [
    "sos_dataset_40"
   ]
  },
  {
   "cell_type": "markdown",
   "metadata": {},
   "source": [
    "### INFO TABLE SOS"
   ]
  },
  {
   "cell_type": "code",
   "execution_count": 85,
   "metadata": {},
   "outputs": [],
   "source": [
    "from collections import namedtuple\n",
    "\n",
    "info= namedtuple(\"test_info_bbc_sos\",[\"hy_pa\",\"g_best\",\"elapsed\"])\n",
    "def return_info_of_dataset(dataset_res):\n",
    "    tests_inf = []\n",
    "    \n",
    "    for test in dataset_res :\n",
    "        tests_inf.append(info(test[\"hy_pa\"] , round(test[\"g_best\"].target.fitness , 3) , round(test[\"elapsed\"],3)))\n",
    "\n",
    "    return tests_inf"
   ]
  },
  {
   "cell_type": "code",
   "execution_count": 87,
   "metadata": {},
   "outputs": [],
   "source": [
    "test_info_bbs_sos_100 = return_info_of_dataset(sos_dataset_100)"
   ]
  },
  {
   "cell_type": "code",
   "execution_count": 88,
   "metadata": {},
   "outputs": [
    {
     "data": {
      "text/plain": [
       "[test_info_bbc_sos(hy_pa=(100, 10, 30), g_best=1.0, elapsed=10.134),\n",
       " test_info_bbc_sos(hy_pa=(100, 10, 30), g_best=1.0, elapsed=9.553),\n",
       " test_info_bbc_sos(hy_pa=(100, 20, 60), g_best=1.0, elapsed=18.234),\n",
       " test_info_bbc_sos(hy_pa=(100, 20, 60), g_best=1.0, elapsed=18.328),\n",
       " test_info_bbc_sos(hy_pa=(100, 30, 100), g_best=1.0, elapsed=31.39),\n",
       " test_info_bbc_sos(hy_pa=(100, 30, 100), g_best=1.0, elapsed=30.683)]"
      ]
     },
     "execution_count": 88,
     "metadata": {},
     "output_type": "execute_result"
    }
   ],
   "source": [
    "test_info_bbs_sos_100"
   ]
  },
  {
   "cell_type": "code",
   "execution_count": 89,
   "metadata": {},
   "outputs": [
    {
     "data": {
      "text/plain": [
       "[test_info_bbc_sos(hy_pa=(100, 20, 60), g_best=0.925, elapsed=20.456),\n",
       " test_info_bbc_sos(hy_pa=(100, 30, 100), g_best=0.825, elapsed=29.725),\n",
       " test_info_bbc_sos(hy_pa=(100, 30, 100), g_best=0.9, elapsed=29.489)]"
      ]
     },
     "execution_count": 89,
     "metadata": {},
     "output_type": "execute_result"
    }
   ],
   "source": [
    "test_info_bbs_sos_40 = return_info_of_dataset(sos_dataset_40)\n",
    "test_info_bbs_sos_40"
   ]
  },
  {
   "cell_type": "code",
   "execution_count": 90,
   "metadata": {},
   "outputs": [
    {
     "data": {
      "text/plain": [
       "[test_info_bbc_sos(hy_pa=(100, 10, 30), g_best=0.913, elapsed=163.942),\n",
       " test_info_bbc_sos(hy_pa=(100, 10, 30), g_best=0.924, elapsed=159.648),\n",
       " test_info_bbc_sos(hy_pa=(100, 20, 60), g_best=0.862, elapsed=340.201),\n",
       " test_info_bbc_sos(hy_pa=(100, 20, 60), g_best=0.948, elapsed=356.918),\n",
       " test_info_bbc_sos(hy_pa=(100, 30, 100), g_best=0.965, elapsed=566.656)]"
      ]
     },
     "execution_count": 90,
     "metadata": {},
     "output_type": "execute_result"
    }
   ],
   "source": [
    "test_info_bbs_sos_737 = return_info_of_dataset(sos_dataset_737)\n",
    "test_info_bbs_sos_737"
   ]
  },
  {
   "cell_type": "markdown",
   "metadata": {},
   "source": [
    "## PSO"
   ]
  },
  {
   "cell_type": "code",
   "execution_count": 38,
   "metadata": {},
   "outputs": [],
   "source": [
    "folder_path = \"/media/alireza/SSD1/arshad_hosh/Thesis/ThesisCode/BBCResults\"\n",
    "\n",
    "def loader(folder_path:None,algo_name:None):\n",
    "    # Get a list of all files in the folder\n",
    "    files = os.listdir(folder_path)\n",
    "    all_res  = {}\n",
    "    i = 0\n",
    "    # Iterate through each file in the folder\n",
    "    for file in files:\n",
    "        # Construct the full file path\n",
    "        file_path = os.path.join(folder_path, file)\n",
    "\n",
    "        # Check if the file is a regular file (not a directory)\n",
    "        if os.path.isfile(file_path):\n",
    "            # Open the file in read mode\n",
    "            if os.path.basename(file_path).startswith(algo_name):\n",
    "                num_doc =  os.path.basename(file_path).split(\"_\")[6]\n",
    "                with open(file_path, 'rb') as f:\n",
    "                    # Read the file contents\n",
    "                    match num_doc :\n",
    "                        case \"40\":\n",
    "                            all_res[\"40\"] = pickle.load(f)\n",
    "                        case \"100\":\n",
    "                            all_res[\"100\"] = pickle.load(f)\n",
    "                        case \"737\":\n",
    "                            all_res[\"737\"] = pickle.load(f)\n",
    "                    i += 1\n",
    "    return all_res"
   ]
  },
  {
   "cell_type": "code",
   "execution_count": 39,
   "metadata": {},
   "outputs": [],
   "source": [
    "all_res_pso = loader(folder_path,\"pso\")"
   ]
  },
  {
   "cell_type": "markdown",
   "metadata": {},
   "source": [
    "---"
   ]
  },
  {
   "cell_type": "code",
   "execution_count": 40,
   "metadata": {},
   "outputs": [],
   "source": [
    "pso_dataset_40 , pso_dataset_100 , pso_dataset_737  = all_res_pso[\"40\"] , all_res_pso[\"100\"] ,all_res_pso[\"737\"]\n"
   ]
  },
  {
   "cell_type": "code",
   "execution_count": 41,
   "metadata": {},
   "outputs": [
    {
     "data": {
      "text/plain": [
       "(0.99, 0.9633333333333334, 0.01598610507770908)"
      ]
     },
     "execution_count": 41,
     "metadata": {},
     "output_type": "execute_result"
    }
   ],
   "source": [
    "best_value_pso_dt_100doc , mean_value_pso_dt_100doc , std_value_pso_dt_100doc  = return_results_of_dataset(pso_dataset_100)\n",
    "best_value_pso_dt_100doc , mean_value_pso_dt_100doc , std_value_pso_dt_100doc "
   ]
  },
  {
   "cell_type": "markdown",
   "metadata": {},
   "source": [
    "---"
   ]
  },
  {
   "cell_type": "code",
   "execution_count": 42,
   "metadata": {},
   "outputs": [
    {
     "data": {
      "text/plain": [
       "(0.75, 0.7166666666666667, 0.049300664859163464)"
      ]
     },
     "execution_count": 42,
     "metadata": {},
     "output_type": "execute_result"
    }
   ],
   "source": [
    "best_value_pso_dt_40doc , mean_value_pso_dt_40doc , std_value_pso_dt_40doc  = return_results_of_dataset(pso_dataset_40)\n",
    "best_value_pso_dt_40doc , mean_value_pso_dt_40doc , std_value_pso_dt_40doc "
   ]
  },
  {
   "cell_type": "markdown",
   "metadata": {},
   "source": [
    "---"
   ]
  },
  {
   "cell_type": "code",
   "execution_count": 43,
   "metadata": {},
   "outputs": [
    {
     "data": {
      "text/plain": [
       "(0.683853459972863, 0.6365897783808231, 0.040603041908496514)"
      ]
     },
     "execution_count": 43,
     "metadata": {},
     "output_type": "execute_result"
    }
   ],
   "source": [
    "best_value_pso_dt_737doc , mean_value_pso_dt_737doc , std_value_pso_dt_737doc  = return_results_of_dataset(pso_dataset_737)\n",
    "best_value_pso_dt_737doc , mean_value_pso_dt_737doc , std_value_pso_dt_737doc"
   ]
  },
  {
   "cell_type": "markdown",
   "metadata": {},
   "source": [
    "## INFO TABLES PSO\n"
   ]
  },
  {
   "cell_type": "code",
   "execution_count": 91,
   "metadata": {},
   "outputs": [],
   "source": [
    "info= namedtuple(\"test_info_bbc_pso\",[\"hy_pa\",\"g_best\",\"elapsed\"])\n",
    "def return_info_of_dataset(dataset_res):\n",
    "    tests_inf = []\n",
    "    \n",
    "    for test in dataset_res :\n",
    "        tests_inf.append(info(test[\"hy_pa\"] , round(test[\"g_best\"].target.fitness , 3) , round(test[\"elapsed\"],3)))\n",
    "\n",
    "    return tests_inf"
   ]
  },
  {
   "cell_type": "code",
   "execution_count": 92,
   "metadata": {},
   "outputs": [
    {
     "data": {
      "text/plain": [
       "[test_info_bbc_pso(hy_pa=(100, 10, 30), g_best=0.97, elapsed=42.738),\n",
       " test_info_bbc_pso(hy_pa=(100, 10, 30), g_best=0.99, elapsed=50.398),\n",
       " test_info_bbc_pso(hy_pa=(100, 20, 60), g_best=0.95, elapsed=94.044),\n",
       " test_info_bbc_pso(hy_pa=(100, 20, 60), g_best=0.94, elapsed=90.663),\n",
       " test_info_bbc_pso(hy_pa=(100, 30, 100), g_best=0.97, elapsed=143.528),\n",
       " test_info_bbc_pso(hy_pa=(100, 30, 100), g_best=0.96, elapsed=142.718)]"
      ]
     },
     "execution_count": 92,
     "metadata": {},
     "output_type": "execute_result"
    }
   ],
   "source": [
    "test_info_bbs_pso_100 = return_info_of_dataset(pso_dataset_100)\n",
    "test_info_bbs_pso_100"
   ]
  },
  {
   "cell_type": "code",
   "execution_count": 93,
   "metadata": {},
   "outputs": [
    {
     "data": {
      "text/plain": [
       "[test_info_bbc_pso(hy_pa=(100, 10, 30), g_best=0.75, elapsed=1.517),\n",
       " test_info_bbc_pso(hy_pa=(100, 10, 30), g_best=0.75, elapsed=2.149),\n",
       " test_info_bbc_pso(hy_pa=(100, 20, 60), g_best=0.75, elapsed=4.376),\n",
       " test_info_bbc_pso(hy_pa=(100, 20, 60), g_best=0.625, elapsed=3.606),\n",
       " test_info_bbc_pso(hy_pa=(100, 30, 100), g_best=0.75, elapsed=5.091),\n",
       " test_info_bbc_pso(hy_pa=(100, 30, 100), g_best=0.675, elapsed=5.0)]"
      ]
     },
     "execution_count": 93,
     "metadata": {},
     "output_type": "execute_result"
    }
   ],
   "source": [
    "test_info_bbs_pso_40 = return_info_of_dataset(pso_dataset_40)\n",
    "test_info_bbs_pso_40"
   ]
  },
  {
   "cell_type": "code",
   "execution_count": 94,
   "metadata": {},
   "outputs": [
    {
     "data": {
      "text/plain": [
       "[test_info_bbc_pso(hy_pa=(100, 10, 30), g_best=0.668, elapsed=26.167),\n",
       " test_info_bbc_pso(hy_pa=(100, 10, 30), g_best=0.684, elapsed=27.936),\n",
       " test_info_bbc_pso(hy_pa=(100, 20, 60), g_best=0.626, elapsed=61.755),\n",
       " test_info_bbc_pso(hy_pa=(100, 20, 60), g_best=0.662, elapsed=73.352),\n",
       " test_info_bbc_pso(hy_pa=(100, 30, 100), g_best=0.619, elapsed=103.891),\n",
       " test_info_bbc_pso(hy_pa=(100, 30, 100), g_best=0.562, elapsed=84.429)]"
      ]
     },
     "execution_count": 94,
     "metadata": {},
     "output_type": "execute_result"
    }
   ],
   "source": [
    "test_info_bbs_pso_737 = return_info_of_dataset(pso_dataset_737)\n",
    "test_info_bbs_pso_737"
   ]
  },
  {
   "cell_type": "markdown",
   "metadata": {},
   "source": [
    "---"
   ]
  },
  {
   "cell_type": "code",
   "execution_count": 45,
   "metadata": {},
   "outputs": [
    {
     "name": "stdout",
     "output_type": "stream",
     "text": [
      "+-------------+-----------+----------+----------+-----------+\n",
      "| Algorithm   | Dataset   |     Best |     Mean |       Std |\n",
      "+=============+===========+==========+==========+===========+\n",
      "| PSO         | dataset 2 | 0.683853 | 0.63659  | 0.040603  |\n",
      "+-------------+-----------+----------+----------+-----------+\n",
      "| PSO         | dataset 3 | 0.75     | 0.716667 | 0.0493007 |\n",
      "+-------------+-----------+----------+----------+-----------+\n",
      "| PSO         | dataset 6 | 0.99     | 0.963333 | 0.0159861 |\n",
      "+-------------+-----------+----------+----------+-----------+\n",
      "| SOS         | dataset 2 | 0.964722 | 0.922388 | 0.0353657 |\n",
      "+-------------+-----------+----------+----------+-----------+\n",
      "| SOS         | dataset 3 | 0.925    | 0.883333 | 0.0424918 |\n",
      "+-------------+-----------+----------+----------+-----------+\n",
      "| SOS         | dataset 6 | 1        | 1        | 0         |\n",
      "+-------------+-----------+----------+----------+-----------+\n"
     ]
    }
   ],
   "source": [
    "from tabulate import tabulate\n",
    "\n",
    "# Define the results of your algorithms\n",
    "pso_results = {\n",
    "    'dataset 2': {'Best': best_value_pso_dt_737doc, 'Mean': mean_value_pso_dt_737doc,\n",
    "                  'Std': std_value_pso_dt_737doc},\n",
    "    'dataset 3': {'Best': best_value_pso_dt_40doc, 'Mean': mean_value_pso_dt_40doc,\n",
    "                  'Std': std_value_pso_dt_40doc},\n",
    "    'dataset 6': {'Best': best_value_pso_dt_100doc, 'Mean': mean_value_pso_dt_100doc,\n",
    "                  'Std': std_value_pso_dt_100doc}\n",
    "}\n",
    "\n",
    "sos_results = {\n",
    "    'dataset 2': {'Best': best_value_sos_dt_737doc, 'Mean':mean_value_sos_dt_737doc, \n",
    "                  'Std':std_value_sos_dt_737doc},\n",
    "    'dataset 3': {'Best': best_value_sos_dt_40doc, 'Mean': mean_value_sos_dt_40doc,\n",
    "                  'Std': std_value_sos_dt_40doc},\n",
    "    'dataset 6': {'Best': best_value_sos_dt_100doc, 'Mean':mean_value_sos_dt_100doc,\n",
    "                  'Std':std_value_sos_dt_100doc}\n",
    "}\n",
    "\n",
    "# Create a table to display the results\n",
    "table = []\n",
    "table.append(['Algorithm', 'Dataset', 'Best', 'Mean', 'Std'])\n",
    "\n",
    "for dataset in pso_results:\n",
    "    table.append(['PSO', dataset, pso_results[dataset]['Best'], pso_results[dataset]['Mean'], pso_results[dataset]['Std']])\n",
    "\n",
    "for dataset in sos_results:\n",
    "    table.append(['SOS', dataset, sos_results[dataset]['Best'], sos_results[dataset]['Mean'], sos_results[dataset]['Std']])\n",
    "\n",
    "\n",
    "# Print the table\n",
    "print(tabulate(table, headers='firstrow', tablefmt='grid'))"
   ]
  },
  {
   "cell_type": "code",
   "execution_count": null,
   "metadata": {},
   "outputs": [],
   "source": []
  },
  {
   "cell_type": "markdown",
   "metadata": {},
   "source": [
    "# 20 news"
   ]
  },
  {
   "cell_type": "code",
   "execution_count": 48,
   "metadata": {},
   "outputs": [],
   "source": [
    "folder_path = \"/media/alireza/SSD1/arshad_hosh/Thesis/ThesisCode/20news\"\n",
    "\n",
    "def loader(folder_path:None,algo_name:None):\n",
    "    # Get a list of all files in the folder\n",
    "    files = os.listdir(folder_path)\n",
    "    all_res  = {}\n",
    "    i = 0\n",
    "    # Iterate through each file in the folder\n",
    "    for file in files:\n",
    "        # Construct the full file path\n",
    "        file_path = os.path.join(folder_path, file)\n",
    "\n",
    "        # Check if the file is a regular file (not a directory)\n",
    "        if os.path.isfile(file_path):\n",
    "            # Open the file in read mode\n",
    "            if os.path.basename(file_path).startswith(algo_name):\n",
    "                num_doc =  os.path.basename(file_path).split(\"_\")[3]\n",
    "                with open(file_path, 'rb') as f:\n",
    "                    # Read the file contents\n",
    "                    match num_doc :\n",
    "                        case \"1427\":\n",
    "                            all_res[\"1427\"] = pickle.load(f)\n",
    "                        case \"200\":\n",
    "                            all_res[\"200\"] = pickle.load(f)\n",
    "                        case \"100\":\n",
    "                            all_res[\"100\"] = pickle.load(f)\n",
    "                    i += 1\n",
    "    return all_res"
   ]
  },
  {
   "cell_type": "markdown",
   "metadata": {},
   "source": [
    "## SOS"
   ]
  },
  {
   "cell_type": "code",
   "execution_count": 49,
   "metadata": {},
   "outputs": [],
   "source": [
    "all_res_sos_20news  = loader(folder_path,algo_name=\"sos\")"
   ]
  },
  {
   "cell_type": "code",
   "execution_count": 50,
   "metadata": {},
   "outputs": [
    {
     "data": {
      "text/plain": [
       "3"
      ]
     },
     "execution_count": 50,
     "metadata": {},
     "output_type": "execute_result"
    }
   ],
   "source": [
    "len(all_res_sos_20news)"
   ]
  },
  {
   "cell_type": "code",
   "execution_count": 51,
   "metadata": {},
   "outputs": [],
   "source": [
    "sos_dataset_1427 , sos_dataset_200 , sos_dataset_100_20news  = all_res_sos_20news[\"1427\"] , all_res_sos_20news[\"200\"] ,all_res_sos_20news[\"100\"]"
   ]
  },
  {
   "cell_type": "markdown",
   "metadata": {},
   "source": [
    "---"
   ]
  },
  {
   "cell_type": "code",
   "execution_count": 52,
   "metadata": {},
   "outputs": [
    {
     "data": {
      "text/plain": [
       "(0.8220042046250876, 0.7852137351086195, 0.026864151986497)"
      ]
     },
     "execution_count": 52,
     "metadata": {},
     "output_type": "execute_result"
    }
   ],
   "source": [
    "best_value_sos_dt_1427doc , mean_value_sos_dt_1427doc , std_value_sos_dt_1427doc  = return_results_of_dataset(sos_dataset_1427)\n",
    "best_value_sos_dt_1427doc , mean_value_sos_dt_1427doc , std_value_sos_dt_1427doc"
   ]
  },
  {
   "cell_type": "markdown",
   "metadata": {},
   "source": [
    "---"
   ]
  },
  {
   "cell_type": "code",
   "execution_count": 53,
   "metadata": {},
   "outputs": [
    {
     "data": {
      "text/plain": [
       "[{'hy_py': (350, 20, 60),\n",
       "  'g_best': id: 16692, target: Objectives: [0.64], Fitness: 0.64, solution: [0.00000000e+00 5.34608403e-04 2.17230647e-01 1.68498820e-02\n",
       "   7.49666210e-02 0.00000000e+00 0.00000000e+00 2.18410517e-03\n",
       "   0.00000000e+00 3.58557489e-07 3.40770656e-03 1.55565127e-04\n",
       "   0.00000000e+00 1.39781984e-01 8.06639414e-03 2.76420006e-02\n",
       "   8.07494952e-04 0.00000000e+00 4.33961598e-01 4.99882257e-02\n",
       "   1.73138926e-03 0.00000000e+00 8.18837491e-03 7.90026682e-04\n",
       "   7.03678878e-04 2.88311305e-04 4.04054502e-01 3.67973267e-07\n",
       "   2.19862241e-02 0.00000000e+00 7.15588278e-05 2.04031048e-04\n",
       "   2.79291637e-04 0.00000000e+00 6.71559719e-05 6.50883660e-02\n",
       "   2.44626330e-02 1.49611577e-03 0.00000000e+00 1.51167893e-02\n",
       "   4.78106834e-03 1.09334686e-01 9.58157700e-03 4.72045541e-03\n",
       "   9.47931040e-03 8.20122464e-07 7.41192464e-03 0.00000000e+00\n",
       "   1.54385075e-02 6.90982625e-02 2.44620170e-03 5.59968458e-02\n",
       "   1.01077998e-01 2.87180047e-02 2.78753312e-01 1.19250229e-02\n",
       "   1.76758344e-01 2.50001935e-02 2.02676641e-05 0.00000000e+00\n",
       "   0.00000000e+00 2.09982551e-04 1.27244004e-05 2.76432196e-04\n",
       "   0.00000000e+00 0.00000000e+00 0.00000000e+00 0.00000000e+00\n",
       "   0.00000000e+00 3.95625870e-06 6.28849611e-04 0.00000000e+00\n",
       "   0.00000000e+00 0.00000000e+00 0.00000000e+00 4.56859910e-04\n",
       "   1.99807107e-03 0.00000000e+00 0.00000000e+00 3.15447652e-04\n",
       "   0.00000000e+00 0.00000000e+00 0.00000000e+00 0.00000000e+00\n",
       "   0.00000000e+00 1.38256542e-05 1.21059541e-05 0.00000000e+00\n",
       "   1.73706593e-06 0.00000000e+00 1.67390082e-04 0.00000000e+00\n",
       "   2.23062377e-06 0.00000000e+00 8.05821341e-04 0.00000000e+00\n",
       "   6.36512019e-05 5.63709672e-07 0.00000000e+00 0.00000000e+00\n",
       "   4.99541171e-04 5.35479640e-04 7.81297106e-08 0.00000000e+00\n",
       "   2.56443002e-04 4.95302450e-05 1.22933556e-06 0.00000000e+00\n",
       "   6.78106668e-05 3.60030907e-04 0.00000000e+00 0.00000000e+00\n",
       "   0.00000000e+00 0.00000000e+00 6.31109960e-05 9.10259941e-05\n",
       "   1.33848618e-03 1.69770778e-04 1.82995190e-08 0.00000000e+00\n",
       "   6.10691138e-04 5.68639135e-05 1.68477413e-03 7.13600991e-05\n",
       "   5.18373639e-04 5.19290187e-03 0.00000000e+00 0.00000000e+00\n",
       "   9.44271385e-04 0.00000000e+00 0.00000000e+00 2.68136733e-04\n",
       "   0.00000000e+00 6.02548783e-04 5.36499984e-04 6.84056710e-04\n",
       "   0.00000000e+00 0.00000000e+00 0.00000000e+00 5.83722355e-04\n",
       "   2.26686978e-03 0.00000000e+00 6.94723778e-04 4.82820003e-04\n",
       "   4.12116555e-03 8.99129109e-04 0.00000000e+00 0.00000000e+00\n",
       "   2.87052580e-05 0.00000000e+00 0.00000000e+00 0.00000000e+00\n",
       "   0.00000000e+00 5.44308107e-04 2.29143784e-04 6.01333159e-05\n",
       "   0.00000000e+00 6.57101408e-05 0.00000000e+00 6.52090247e-04\n",
       "   1.38915433e-03 0.00000000e+00 3.65030160e-04 0.00000000e+00\n",
       "   2.31468209e-03 1.51356478e-05 3.67134593e-06 8.95905505e-03\n",
       "   4.16705922e-04 7.72351243e-05 2.51808936e-03 5.80139639e-08\n",
       "   0.00000000e+00 0.00000000e+00 1.33810589e-05 3.52181158e-11\n",
       "   4.01378401e-05 3.99827135e-04 0.00000000e+00 0.00000000e+00\n",
       "   0.00000000e+00 9.71293661e-04 9.83637957e-04 4.61976068e-04\n",
       "   0.00000000e+00 0.00000000e+00 0.00000000e+00 0.00000000e+00\n",
       "   2.14790410e-05 4.28833217e-03 2.00621228e-04 2.86842210e-06\n",
       "   3.68316316e-04 1.11743725e-03 1.46910415e-03 0.00000000e+00\n",
       "   1.31859545e-05 6.98209007e-04 5.53846787e-05 7.93547089e-04\n",
       "   1.04632796e-07 3.71155385e-08 0.00000000e+00 0.00000000e+00\n",
       "   0.00000000e+00 1.13915054e-03 1.10807053e-03 0.00000000e+00\n",
       "   2.62020939e-04 1.29889048e-05 0.00000000e+00 8.07616565e-05\n",
       "   0.00000000e+00 7.13870925e-04 1.87666846e-04 2.01366073e-06\n",
       "   0.00000000e+00 0.00000000e+00 1.07385440e-07 1.73220719e-03\n",
       "   1.34588337e-03 3.76226887e-03 0.00000000e+00 3.63530599e-04\n",
       "   4.86587840e-04 0.00000000e+00 0.00000000e+00 3.70752121e-02\n",
       "   4.02476806e-04 0.00000000e+00 1.53337122e-03 3.91956279e-05\n",
       "   7.84901523e-04 7.38770037e-04 2.06109653e-06 8.57268206e-04\n",
       "   0.00000000e+00 9.08657522e-04 4.13239023e-04 0.00000000e+00],\n",
       "  'start': [575],\n",
       "  'categories': ['rec.autos',\n",
       "   'talk.politics.mideast',\n",
       "   'rec.sport.baseball',\n",
       "   'talk.religion.misc'],\n",
       "  'elapsed': 288.773371219635,\n",
       "  'run': 0},\n",
       " {'hy_py': (350, 20, 60),\n",
       "  'g_best': id: 17419, target: Objectives: [0.64], Fitness: 0.64, solution: [9.21959663e-04 0.00000000e+00 4.30683111e-03 4.85914941e-03\n",
       "   0.00000000e+00 4.21558077e-03 0.00000000e+00 0.00000000e+00\n",
       "   0.00000000e+00 7.69897130e-03 3.22245339e-04 0.00000000e+00\n",
       "   4.94357726e-03 1.99019663e-08 4.34427468e-03 1.06961272e-03\n",
       "   5.88712549e-04 3.51559500e-03 0.00000000e+00 4.49465544e-03\n",
       "   9.63830650e-04 7.37976811e-04 4.71672805e-03 2.60371400e-04\n",
       "   3.35827072e-03 1.12084514e-03 6.92265673e-04 2.55058833e-03\n",
       "   4.22885382e-05 3.11024670e-03 3.47923616e-04 2.68760336e-03\n",
       "   4.25738777e-03 1.04471803e-03 1.68773775e-03 4.57933099e-04\n",
       "   0.00000000e+00 4.53148942e-04 0.00000000e+00 1.30372719e-03\n",
       "   2.78614942e-03 9.77128218e-04 8.50091524e-03 1.58715673e-03\n",
       "   4.69463694e-03 0.00000000e+00 1.09430410e-03 6.06248535e-03\n",
       "   6.77562336e-04 1.04464354e-03 9.15877134e-04 3.47838912e-04\n",
       "   1.74782704e-04 0.00000000e+00 1.47377576e-03 5.01123925e-04\n",
       "   3.96427582e-03 3.61351975e-04 0.00000000e+00 8.30520937e-03\n",
       "   7.73067991e-04 0.00000000e+00 0.00000000e+00 1.76312635e-05\n",
       "   8.87964983e-05 1.09631376e-03 1.19300628e-01 1.51695230e-03\n",
       "   1.13289882e-06 4.55638601e-03 3.20388057e-06 5.01203833e-04\n",
       "   9.18711199e-03 0.00000000e+00 1.84515946e-02 2.50168800e-03\n",
       "   1.29835945e-02 1.16032481e-02 1.52011694e-02 6.11261237e-03\n",
       "   3.68844710e-03 0.00000000e+00 8.32272942e-03 5.37997945e-04\n",
       "   1.01868382e-03 2.80606936e-04 1.38631493e-04 5.40163528e-03\n",
       "   1.55082103e-03 3.87153499e-03 2.14225584e-02 6.09598201e-03\n",
       "   2.38843916e-03 5.39097927e-03 5.56505102e-05 4.68909222e-04\n",
       "   3.81388881e-03 1.69797010e-06 4.29473791e-03 2.04274714e-03\n",
       "   4.68298472e-04 1.83882732e-02 7.15362750e-03 4.75800615e-04\n",
       "   2.53429467e-03 7.25692877e-04 1.46132468e-04 5.26730650e-03\n",
       "   1.41498013e-03 3.77853013e-03 8.01107782e-03 1.81245811e-03\n",
       "   2.33255604e-03 1.49250917e-02 0.00000000e+00 8.42963173e-04\n",
       "   6.12140307e-04 9.88138902e-04 6.88346046e-03 1.16198528e-03\n",
       "   8.96451331e-04 0.00000000e+00 6.48958138e-03 3.27115090e-03\n",
       "   2.54253687e-03 4.57270554e-03 0.00000000e+00 2.10475578e-03\n",
       "   2.55832241e-03 8.95679253e-10 1.11088011e-03 1.84832795e-03\n",
       "   6.14409852e-06 3.94642501e-04 6.98593572e-03 3.19409973e-04\n",
       "   8.29270306e-04 8.31991501e-03 2.34017844e-02 3.78916593e-03\n",
       "   0.00000000e+00 2.63057491e-03 2.26192835e-03 5.34673999e-04\n",
       "   7.59853666e-03 2.79188812e-03 0.00000000e+00 2.77091486e-03\n",
       "   3.03979817e-02 3.30761518e-03 4.38571971e-03 9.28143328e-06\n",
       "   3.94118975e-03 1.29822159e-03 2.29466532e-03 3.75031046e-03\n",
       "   2.87666946e-04 0.00000000e+00 0.00000000e+00 2.18085611e-03\n",
       "   2.92429177e-03 1.60269568e-03 3.60791870e-03 2.02480581e-03\n",
       "   1.12130476e-03 3.85855490e-03 6.72186499e-04 1.18605250e-03\n",
       "   0.00000000e+00 1.84620446e-03 1.23347267e-04 0.00000000e+00\n",
       "   2.08562597e-03 7.63277559e-04 1.42603183e-03 1.88144269e-03\n",
       "   1.23161754e-03 1.08232245e-03 3.14863394e-03 8.71318846e-03\n",
       "   1.01380805e-02 5.27970116e-05 2.94075795e-03 2.06072281e-03\n",
       "   1.94292720e-03 1.10468091e-03 5.30940347e-03 9.37737819e-03\n",
       "   1.03357957e-01 2.55553222e-02 0.00000000e+00 7.69358238e-04\n",
       "   5.13125506e-02 1.02997173e-02 6.60414397e-03 6.43707976e-02\n",
       "   1.07426328e-06 4.57390820e-04 0.00000000e+00 1.83821802e-04\n",
       "   7.69510141e-03 7.69936690e-03 7.14559225e-06 1.70167412e-04\n",
       "   3.19933764e-05 2.35055618e-03 0.00000000e+00 1.32658369e-04\n",
       "   4.06903390e-03 6.50097796e-02 0.00000000e+00 4.40622283e-03\n",
       "   0.00000000e+00 1.69063420e-01 5.52475312e-02 3.32813890e-03\n",
       "   0.00000000e+00 1.45963695e-05 1.77408454e-03 1.27426894e-03\n",
       "   8.47181270e-04 3.01453915e-04 1.47967100e-02 7.25644615e-04\n",
       "   8.68581529e-03 3.17335074e-02 6.16514990e-03 2.11583167e-03\n",
       "   9.49092488e-02 0.00000000e+00 0.00000000e+00 1.00166349e-01\n",
       "   8.87358515e-04 2.49275387e-03 2.04314566e-04 0.00000000e+00\n",
       "   5.29000123e-02 2.04292182e-02 1.31771130e-03 2.95925516e-02],\n",
       "  'start': [3333],\n",
       "  'categories': ['rec.autos',\n",
       "   'talk.politics.mideast',\n",
       "   'rec.sport.baseball',\n",
       "   'talk.religion.misc'],\n",
       "  'elapsed': 357.20071506500244,\n",
       "  'run': 1},\n",
       " {'hy_py': (250, 30, 100),\n",
       "  'g_best': id: 17956, target: Objectives: [0.735], Fitness: 0.735, solution: [6.91843454e-04 6.68196514e-04 0.00000000e+00 1.78861994e-04\n",
       "   6.67679954e-04 1.24420078e-03 2.39747657e-04 7.58199570e-04\n",
       "   3.85014193e-04 3.86901343e-03 2.05412659e-03 1.48568828e-04\n",
       "   1.70888325e-04 2.20082285e-04 0.00000000e+00 2.79999223e-06\n",
       "   6.61583024e-04 6.28555420e-05 7.96628781e-04 2.38093849e-04\n",
       "   9.36380309e-04 1.66772295e-04 2.05509801e-06 9.09828613e-06\n",
       "   5.25407018e-04 3.06391218e-04 1.51864594e-06 4.66513077e-04\n",
       "   3.87522746e-04 6.42632864e-04 9.11565539e-05 7.71976798e-04\n",
       "   5.49050933e-04 2.72257150e-04 5.92454151e-04 2.66701151e-04\n",
       "   1.11018445e-04 6.96556712e-05 2.56811376e-04 1.09179850e-03\n",
       "   2.53954380e-04 0.00000000e+00 0.00000000e+00 5.59905762e-03\n",
       "   1.71782288e-03 3.10381044e-04 5.53244718e-04 1.11581582e-03\n",
       "   4.15515286e-04 5.93324106e-04 4.51067679e-04 1.41382376e-03\n",
       "   4.01916662e-04 4.20198830e-06 2.17427158e-04 4.29881774e-04\n",
       "   6.28624147e-05 1.48785892e-03 3.45136754e-04 3.65244695e-04\n",
       "   9.69303376e-04 6.28866377e-04 1.61441979e-03 1.82196183e-04\n",
       "   1.42590876e-06 3.50940402e-06 3.22640664e-06 1.51075709e-03\n",
       "   3.32586355e-04 2.15911377e-05 4.30827342e-07 4.47880933e-04\n",
       "   9.53046863e-04 1.27872024e-05 1.07014098e-04 4.16274074e-06\n",
       "   1.93796729e-05 0.00000000e+00 6.69192230e-04 7.60133848e-04\n",
       "   8.42532961e-04 2.73791761e-04 3.77777669e-04 4.50941100e-04\n",
       "   1.07498115e-03 2.54643206e-04 1.25885856e-04 2.96198827e-04\n",
       "   3.46753652e-04 1.27939390e-04 5.59750665e-04 5.71795075e-06\n",
       "   5.39384627e-05 1.87215445e-04 2.77829991e-04 5.16027452e-05\n",
       "   0.00000000e+00 6.21331931e-04 2.39306642e-04 7.15850698e-04\n",
       "   3.22071259e-03 7.99325320e-04 2.95500939e-04 3.91653813e-04\n",
       "   7.44325800e-06 2.95683908e-04 1.01361693e-03 2.67328249e-05\n",
       "   4.16639639e-04 4.12969681e-05 2.44180795e-04 1.32094726e-04\n",
       "   6.34533956e-04 1.10100478e-03 0.00000000e+00 9.87730428e-04\n",
       "   4.63618763e-04 6.51951410e-05 6.28199553e-05 4.07771073e-05\n",
       "   2.36952002e-04 5.34679550e-03 2.94090810e-04 3.50657090e-04\n",
       "   6.34538329e-06 1.80022795e-03 1.32531072e-04 4.09887384e-04\n",
       "   1.31650637e-06 8.69907422e-04 2.91441272e-04 9.30156762e-04\n",
       "   7.23437370e-04 1.52972635e-05 9.02784248e-05 1.47130863e-06\n",
       "   4.83658633e-03 2.13510395e-04 6.25965619e-06 1.80023567e-04\n",
       "   3.75631211e-06 0.00000000e+00 7.19061868e-04 1.79835161e-03\n",
       "   1.17753498e-03 3.99518575e-04 6.12549307e-04 6.77699783e-06\n",
       "   2.33677677e-04 1.96798292e-03 1.70443034e-04 1.72955843e-04\n",
       "   1.05168361e-03 3.36284468e-04 7.95057149e-04 4.03027884e-03\n",
       "   1.75838657e-05 8.57401093e-04 7.29155620e-04 5.19942552e-04\n",
       "   4.61748007e-04 1.18120421e-03 2.01531464e-03 1.18145875e-03\n",
       "   2.58582217e-04 3.48285987e-04 1.39845023e-03 3.81639849e-06\n",
       "   2.09455218e-03 3.43031126e-03 3.69641112e-05 3.16303006e-05\n",
       "   2.43039644e-05 6.43308888e-05 1.65905438e-03 1.08259229e-03\n",
       "   5.98582862e-04 4.46618297e-04 2.50005007e-03 7.32641155e-04\n",
       "   3.92187409e-04 5.39764144e-04 6.65223993e-03 4.92934568e-04\n",
       "   4.99367041e-04 3.49126917e-06 2.16360916e-03 1.45904527e-04\n",
       "   1.63627850e-03 5.88394870e-03 3.49243519e-06 1.06969175e-04\n",
       "   7.09626944e-04 3.59376153e-04 3.43780359e-04 3.90337635e-04\n",
       "   0.00000000e+00 2.38609556e-04 1.90503012e-04 3.22730100e-04\n",
       "   3.27560025e-03 1.01573490e-03 4.88895703e-04 1.00098919e-03\n",
       "   2.59796742e-04 3.93354159e-03 5.33524217e-04 4.88505626e-06\n",
       "   9.38828731e-04 2.75904239e-04 1.11018750e-03 3.72015471e-03\n",
       "   4.08179468e-06 2.92042876e-04 0.00000000e+00 2.63649573e-05\n",
       "   1.69965497e-03 2.29319537e-05 1.89774693e-04 1.70757592e-03\n",
       "   2.18372659e-03 2.57460426e-04 3.38414558e-04 4.35318534e-04\n",
       "   3.13301416e-04 1.75318723e-03 4.58817451e-06 2.27304357e-05\n",
       "   3.07144204e-04 2.77480461e-04 2.50553833e-03 1.46329297e-03\n",
       "   1.66214817e-03 1.20516012e-03 1.71693034e-04 1.03250675e-06\n",
       "   6.97962360e-04 3.29005716e-06 2.64989644e-03 6.36838618e-04\n",
       "   9.42604999e-04 0.00000000e+00 1.17589489e-03 1.34201902e-03\n",
       "   7.68081625e-05 1.59388243e-03 4.21873472e-04 2.66291971e-04\n",
       "   1.77078568e-03 7.54457116e-05 7.11803494e-04 3.63398933e-05\n",
       "   2.37750449e-03 8.86284774e-04 3.39861310e-04 6.76890835e-04\n",
       "   2.61200137e-04 1.49838577e-04 2.05030555e-03 3.01922432e-03\n",
       "   1.04800074e-03 1.10167134e-03 1.11774496e-03 3.62784538e-04\n",
       "   4.75387730e-04 5.20282953e-04 4.26139641e-04 2.47665442e-05\n",
       "   7.81328444e-04 4.78863893e-04 5.24731550e-04 2.30452284e-04\n",
       "   1.25602262e-05 3.28166575e-04 3.40530288e-04 1.63074025e-04\n",
       "   1.37756628e-05 2.77556833e-04 2.41265808e-03 5.78901874e-06\n",
       "   5.47914489e-04 1.15212025e-05 1.12516680e-03 6.11864773e-03\n",
       "   5.05095816e-04 5.07846789e-06 5.97848064e-06 9.12719051e-04\n",
       "   2.31763537e-04 3.16705434e-04 8.60390849e-04 2.39412891e-04\n",
       "   2.45510805e-05 1.29281969e-03 8.98827798e-04 2.21902340e-04\n",
       "   0.00000000e+00 4.30899442e-04 1.68280841e-03 1.38175345e-03\n",
       "   7.47377112e-04 1.70847844e-06 5.16554648e-04 1.16025566e-05\n",
       "   4.87199023e-04 6.69192166e-04 1.21826345e-03 1.64474098e-04\n",
       "   4.77278262e-04 1.92878310e-05 7.74973975e-07 7.01454128e-03\n",
       "   2.44281691e-03 9.26548369e-05 9.27335164e-04 4.33666719e-05\n",
       "   1.00119220e-04 1.74911346e-04 2.88915452e-03 3.30455871e-03\n",
       "   1.17992562e-03 2.69956247e-02 1.81724359e-03 3.52816504e-04\n",
       "   4.15950965e-04 1.00778023e-03 1.97801979e-03 3.05887921e-04\n",
       "   1.01965480e-03 4.06877143e-04 4.17857691e-04 4.33396977e-04\n",
       "   1.32098481e-03 1.75642734e-03 1.13708444e-03 2.32854788e-04\n",
       "   5.63554223e-05 4.41687070e-05 1.22654470e-02 9.00104772e-04\n",
       "   1.60267889e-03 3.32170813e-04 1.06060331e-03 4.20688437e-03\n",
       "   1.18249354e-03 1.59090455e-04 3.71606356e-05 3.16384107e-04\n",
       "   2.52979123e-03 1.36708655e-03 8.01744189e-04 2.37310366e-04\n",
       "   2.53619773e-03 9.62821692e-04 1.81444840e-04 1.99584440e-03\n",
       "   9.72317741e-07 5.54682509e-03 2.05629375e-03 5.50726374e-04\n",
       "   1.06781406e-03 6.48400434e-05 1.51039419e-03 8.49925968e-04\n",
       "   4.32183111e-06 6.01780779e-04 1.69760123e-03 5.15414020e-04\n",
       "   2.81231745e-04 2.61005926e-05 5.55980140e-05 3.33353987e-06\n",
       "   1.52611037e-02 4.44794032e-04 1.58800915e-06 1.83823953e-03\n",
       "   3.80533961e-04 1.70507598e-03 1.15990613e-03 1.41446568e-03\n",
       "   4.56631247e-06 2.46251235e-04 4.06629127e-04 1.00611267e-03\n",
       "   1.00825963e-03 3.02464418e-04 1.72001639e-02 7.03463407e-04\n",
       "   6.23011284e-06 6.50200478e-04 4.48851189e-04 2.31097524e-03\n",
       "   1.92861751e-03 2.79907015e-03 1.03405294e-03 9.12342042e-04\n",
       "   2.95284214e-04 6.99413533e-06 2.82530091e-04 3.50549500e-05],\n",
       "  'start': [2023],\n",
       "  'categories': ['talk.politics.guns',\n",
       "   'sci.med',\n",
       "   'rec.motorcycles',\n",
       "   'sci.space'],\n",
       "  'elapsed': 368.9421534538269,\n",
       "  'run': 0},\n",
       " {'hy_py': (250, 30, 100),\n",
       "  'g_best': id: 18493, target: Objectives: [0.705], Fitness: 0.705, solution: [4.71335908e-05 1.60531761e-06 1.15305109e-06 1.82484660e-06\n",
       "   1.76130898e-06 1.48148989e-02 0.00000000e+00 6.05820931e-05\n",
       "   9.19481215e-07 5.78699882e-03 1.52110191e-06 0.00000000e+00\n",
       "   2.72470085e-06 1.00092757e-07 7.52929555e-07 2.07139512e-06\n",
       "   1.31280299e-06 6.79166865e-04 9.88200989e-07 1.10306318e-06\n",
       "   0.00000000e+00 4.09263641e-07 8.92470680e-07 3.25344089e-04\n",
       "   7.36094084e-05 1.34317864e-03 8.37341536e-05 1.83982444e-03\n",
       "   1.70320811e-03 1.13777345e-07 0.00000000e+00 0.00000000e+00\n",
       "   3.08587979e-03 3.16805335e-06 2.98003227e-04 1.32973089e-06\n",
       "   5.19970678e-04 0.00000000e+00 4.14251619e-03 2.03045067e-05\n",
       "   9.64782910e-07 1.44057291e-06 1.65227219e-04 1.71327453e-03\n",
       "   1.26048509e-04 1.35533987e-06 1.84329290e-05 1.22998158e-06\n",
       "   2.14234171e-03 4.82262913e-03 1.06464472e-06 8.85705568e-07\n",
       "   0.00000000e+00 1.32106176e-06 0.00000000e+00 2.67028230e-06\n",
       "   9.90777254e-07 1.57835309e-03 2.04268223e-06 6.07372784e-06\n",
       "   7.65921485e-07 2.00073888e-06 7.60039684e-05 4.96554920e-07\n",
       "   8.22462956e-04 2.15134754e-07 6.16818231e-07 3.60317995e-07\n",
       "   7.84392756e-05 1.95907362e-06 4.62287639e-07 1.12240261e-06\n",
       "   1.19361684e-04 7.85418904e-07 2.22328219e-06 1.80325574e-06\n",
       "   1.82527207e-04 2.15364298e-07 1.22637350e-06 7.08486893e-04\n",
       "   3.91185595e-05 1.87994086e-06 2.91100762e-06 1.04687105e-04\n",
       "   4.92914815e-03 6.35896566e-07 2.35286258e-03 4.07415000e-05\n",
       "   1.32449515e-06 5.57232807e-05 8.74202584e-04 8.84906018e-04\n",
       "   2.83955768e-02 1.42287266e-03 8.75766080e-04 1.44375090e-04\n",
       "   1.90191011e-04 1.90124918e-06 0.00000000e+00 6.64506470e-07\n",
       "   2.40906516e-05 7.55337574e-07 4.87247187e-07 8.00210197e-04\n",
       "   1.48300674e-06 2.95326388e-06 6.16077262e-05 2.34514358e-05\n",
       "   2.34765209e-06 4.18150502e-03 4.96273062e-04 2.21700540e-06\n",
       "   6.45048421e-07 7.69181186e-07 1.69382485e-03 2.63546979e-05\n",
       "   6.36821649e-05 6.19957071e-04 2.10605363e-06 0.00000000e+00\n",
       "   9.57117298e-05 0.00000000e+00 6.20215060e-03 3.75439125e-03\n",
       "   3.89855000e-04 8.76853954e-07 4.61529661e-07 0.00000000e+00\n",
       "   8.27215169e-04 1.42685238e-03 4.16498024e-05 3.48235252e-05\n",
       "   5.81060970e-04 8.80179521e-07 2.50748185e-06 2.02294155e-06\n",
       "   1.80239816e-05 5.24100157e-04 4.06327151e-03 1.85299427e-04\n",
       "   2.51908634e-04 3.25672172e-05 1.23056688e-05 3.27690109e-06\n",
       "   7.23240296e-07 6.52968792e-05 2.11976627e-06 1.26934790e-06\n",
       "   2.74383511e-05 2.05563544e-06 7.45853465e-05 1.39837769e-06\n",
       "   1.00183911e-03 8.72092937e-06 1.75019477e-03 2.00550404e-05\n",
       "   3.83765587e-07 6.81686791e-05 1.02014114e-07 1.85500985e-07\n",
       "   5.49453580e-03 4.61424502e-04 0.00000000e+00 5.45209195e-07\n",
       "   8.86853943e-07 1.07141687e-03 5.99761630e-03 0.00000000e+00\n",
       "   1.09303883e-06 5.22788442e-06 6.40632205e-07 5.36991500e-05\n",
       "   8.54367147e-06 0.00000000e+00 0.00000000e+00 1.39420210e-06\n",
       "   1.72244843e-03 2.06058643e-06 3.81827738e-04 3.20629526e-07\n",
       "   4.04928828e-03 1.53045167e-05 0.00000000e+00 3.37191391e-04\n",
       "   0.00000000e+00 1.02996434e-03 8.31198011e-07 1.40413765e-06\n",
       "   3.54268493e-03 7.31317545e-06 2.48577696e-05 1.62993015e-06\n",
       "   0.00000000e+00 1.28602225e-03 1.61117218e-06 5.51726258e-07\n",
       "   2.37769811e-03 1.77119592e-06 0.00000000e+00 3.41303473e-03\n",
       "   7.30320014e-07 1.46019034e-06 4.53613217e-04 5.59234835e-02\n",
       "   2.96023359e-04 1.03527239e-06 4.08509379e-06 3.57570405e-02\n",
       "   6.36864827e-03 2.94401454e-03 2.01048067e-06 8.38133192e-04\n",
       "   2.50735258e-04 3.07498287e-06 2.39605549e-06 8.35983924e-03\n",
       "   4.33576556e-02 4.43237501e-03 7.23192254e-04 1.23822341e-02\n",
       "   7.26539720e-07 1.31042349e-04 3.79484654e-04 3.50646389e-07\n",
       "   1.22579558e-05 9.90438880e-09 5.13145451e-03 1.66529350e-06\n",
       "   1.11840673e-02 5.45580736e-05 5.21598117e-06 4.42923138e-05\n",
       "   2.82382698e-06 2.67473364e-02 1.04681663e-01 4.47104624e-02\n",
       "   8.26774474e-05 1.16079240e-06 9.61968277e-06 1.91002716e-03\n",
       "   1.35486286e-04 1.41408455e-02 1.07736192e-02 1.79146172e-07\n",
       "   2.51969070e-06 5.98452173e-03 2.31342580e-04 5.35527527e-04\n",
       "   6.50275405e-04 1.29290237e-03 7.76506539e-07 1.25982767e-06\n",
       "   3.88577554e-04 3.47973750e-03 8.54389325e-07 1.09176566e-06\n",
       "   4.46426876e-03 1.29371136e-06 8.76218596e-04 2.13102254e-07\n",
       "   3.62605806e-07 1.25106441e-02 9.51009023e-04 8.54331029e-04\n",
       "   2.84337566e-02 6.17630369e-04 2.16032998e-04 1.63280815e-03\n",
       "   1.84570382e-06 2.17867394e-03 5.38881648e-06 2.88810810e-03\n",
       "   0.00000000e+00 2.09889227e-05 5.99962560e-06 2.90387002e-06\n",
       "   2.06113930e-02 3.29599520e-06 1.91118860e-04 2.08780996e-03\n",
       "   8.54623090e-04 9.41177656e-05 3.14193769e-04 2.82466462e-05\n",
       "   5.33538696e-05 0.00000000e+00 4.48740163e-03 8.28117576e-07\n",
       "   1.23845404e-03 9.24806511e-07 4.78886731e-04 7.08655665e-03\n",
       "   3.88726624e-05 1.37391561e-03 8.25730292e-06 1.30811656e-02\n",
       "   5.93947059e-03 8.18336734e-05 0.00000000e+00 7.82433929e-06\n",
       "   1.64689002e-06 1.92303796e-04 4.36695314e-06 2.25648390e-04\n",
       "   4.99590393e-07 4.69726139e-07 6.16593358e-05 0.00000000e+00\n",
       "   1.67742987e-06 2.51279132e-03 4.17520946e-03 1.72274873e-05\n",
       "   7.68770395e-07 0.00000000e+00 1.71991486e-03 3.20999946e-06\n",
       "   9.77675231e-07 2.61628612e-06 2.97063730e-06 2.30806915e-04\n",
       "   8.93858097e-04 7.62207383e-04 4.79975680e-07 7.27981746e-03\n",
       "   3.90031257e-03 5.96851584e-07 1.99338285e-02 7.04825207e-07\n",
       "   1.32087939e-03 1.49677212e-06 2.85426648e-03 0.00000000e+00\n",
       "   2.91219782e-06 3.60212518e-06 3.97122593e-03 3.90209400e-06\n",
       "   7.96388538e-05 1.82914645e-06 6.30919555e-04 1.17500969e-02\n",
       "   1.94326907e-03 1.82759702e-03 5.03808686e-03 4.15980325e-06\n",
       "   4.79769818e-05 6.98106805e-07 6.46042039e-07 1.99200118e-03\n",
       "   7.21890363e-05 2.53338438e-06 2.52205729e-06 3.58709997e-06\n",
       "   2.43405499e-07 7.37324820e-05 0.00000000e+00 3.93563423e-03\n",
       "   4.87669745e-04 5.45594972e-05 1.89945969e-07 2.87250361e-04\n",
       "   1.74268513e-03 2.13173889e-06 0.00000000e+00 3.50366479e-06\n",
       "   9.08998337e-07 2.19632543e-06 3.06446533e-06 4.79948381e-04\n",
       "   1.66312034e-06 7.64712015e-03 2.84073031e-06 4.60824887e-03\n",
       "   5.10210820e-03 1.28245260e-06 3.28372455e-04 1.39839712e-06\n",
       "   1.27787734e-03 8.68243201e-06 0.00000000e+00 2.36687548e-03\n",
       "   5.57255523e-07 7.87408769e-06 1.76050259e-06 7.36435313e-04\n",
       "   4.61876136e-07 1.35130700e-05 5.71137478e-07 2.71261256e-04\n",
       "   3.35613149e-06 2.77333099e-04 3.10138310e-07 1.74069482e-04\n",
       "   1.47741342e-06 2.62326298e-04 3.27891070e-04 6.35799137e-03\n",
       "   1.68191659e-02 1.39134438e-06 7.53989518e-07 3.32049202e-05],\n",
       "  'start': [1654],\n",
       "  'categories': ['talk.politics.guns',\n",
       "   'sci.med',\n",
       "   'rec.motorcycles',\n",
       "   'sci.space'],\n",
       "  'elapsed': 470.0131163597107,\n",
       "  'run': 1},\n",
       " {'hy_py': (150, 55, 170),\n",
       "  'g_best': id: 18855, target: Objectives: [0.745], Fitness: 0.745, solution: [0.00000000e+00 1.99892317e-04 0.00000000e+00 5.29863478e-03\n",
       "   1.80043411e-03 2.49657030e-05 8.61637496e-05 0.00000000e+00\n",
       "   9.35738974e-07 2.81970009e-03 4.13375767e-03 0.00000000e+00\n",
       "   1.16026797e-07 9.54728409e-05 1.91923172e-07 9.51313480e-09\n",
       "   7.47984825e-05 2.23956334e-03 1.51571066e-03 8.74640976e-04\n",
       "   1.81894641e-06 6.59124865e-04 9.32621450e-05 0.00000000e+00\n",
       "   2.82912493e-03 1.74925407e-03 0.00000000e+00 0.00000000e+00\n",
       "   2.95074241e-04 2.21798764e-03 1.64853190e-02 4.64737611e-05\n",
       "   1.95602790e-04 7.89696879e-03 5.03308634e-05 8.72220188e-04\n",
       "   8.63259273e-05 1.17507593e-06 1.32161052e-08 2.58321646e-05\n",
       "   1.18062837e-04 2.14573163e-04 9.78498001e-04 2.38948927e-03\n",
       "   1.48910413e-09 5.14349065e-04 2.39041002e-06 1.15832158e-04\n",
       "   5.60964087e-03 4.11867326e-04 8.75278831e-06 3.55439831e-03\n",
       "   1.99109427e-05 4.72788504e-03 1.36725383e-04 6.28851210e-06\n",
       "   4.89081899e-04 6.91171045e-05 2.25425039e-03 0.00000000e+00\n",
       "   7.08173887e-03 5.02249203e-03 1.83018242e-03 1.34456577e-08\n",
       "   2.41380993e-07 1.63092910e-03 1.62353578e-04 1.59743355e-04\n",
       "   1.13024418e-03 3.06227024e-06 4.34836481e-05 9.83812195e-05\n",
       "   2.64448028e-03 0.00000000e+00 2.29307594e-03 1.09630787e-05\n",
       "   7.55797805e-05 1.42635098e-05 6.75607704e-06 3.09779636e-04\n",
       "   0.00000000e+00 0.00000000e+00 0.00000000e+00 0.00000000e+00\n",
       "   0.00000000e+00 0.00000000e+00 0.00000000e+00 0.00000000e+00\n",
       "   0.00000000e+00 0.00000000e+00 0.00000000e+00 0.00000000e+00\n",
       "   6.66923461e-04 2.66766980e-04 0.00000000e+00 2.06676889e-05\n",
       "   0.00000000e+00 0.00000000e+00 1.80042890e-04 1.04920989e-02\n",
       "   0.00000000e+00 0.00000000e+00 0.00000000e+00 0.00000000e+00\n",
       "   0.00000000e+00 0.00000000e+00 0.00000000e+00 0.00000000e+00\n",
       "   0.00000000e+00 0.00000000e+00 1.71891154e-04 0.00000000e+00\n",
       "   0.00000000e+00 5.46108806e-09 0.00000000e+00 0.00000000e+00\n",
       "   0.00000000e+00 0.00000000e+00 0.00000000e+00 0.00000000e+00\n",
       "   0.00000000e+00 1.40526919e-08 0.00000000e+00 1.04640394e-03\n",
       "   7.11891919e-04 1.34677529e-04 3.01894358e-04 2.16922646e-07\n",
       "   5.57353773e-03 1.93145258e-04 1.88463774e-05 8.27305108e-05\n",
       "   3.54222412e-04 5.75882807e-04 5.03694205e-05 7.91603473e-03\n",
       "   6.85280663e-05 2.55733348e-04 7.83654545e-08 1.71567581e-04\n",
       "   9.99228143e-06 1.48715197e-04 1.58448150e-03 1.49550683e-05\n",
       "   4.34736645e-03 2.75424368e-03 1.22175381e-02 6.20073225e-03\n",
       "   3.29782221e-04 2.94315293e-04 1.08855768e-06 2.02598719e-03\n",
       "   8.70012713e-06 1.27352439e-02 7.90364959e-04 2.78857940e-03\n",
       "   0.00000000e+00 1.52290360e-03 2.10637690e-04 1.27417006e-05\n",
       "   1.34886750e-09 2.29348550e-04 7.36628596e-08 1.65246348e-04\n",
       "   4.29652231e-04 2.70834394e-04 1.92391663e-03 1.80610689e-03\n",
       "   0.00000000e+00 1.90843717e-03 0.00000000e+00 7.00577866e-04\n",
       "   3.88276062e-03 0.00000000e+00 3.24487234e-04 8.27440865e-04\n",
       "   3.98954512e-06 6.59073734e-03 1.35098664e-07 1.08551961e-04\n",
       "   3.03306282e-03 5.58580087e-06 1.87817061e-04 1.89851839e-04\n",
       "   2.19270215e-04 0.00000000e+00 2.16663258e-02 4.47719794e-03\n",
       "   1.05422568e-04 2.53191917e-02 1.28239548e-04 4.13805804e-03\n",
       "   4.19453092e-08 1.92253385e-04 4.46290376e-05 3.60383253e-04\n",
       "   0.00000000e+00 1.28979213e-03 2.94949145e-04 7.12605379e-05\n",
       "   2.02226365e-04 1.65713797e-03 2.00394360e-03 4.76425065e-04\n",
       "   3.72953259e-04 1.11679392e-04 0.00000000e+00 2.97178729e-04\n",
       "   0.00000000e+00 3.11686916e-03 4.25363196e-03 0.00000000e+00\n",
       "   6.78488096e-04 5.43000840e-02 7.76856532e-08 3.71870451e-03\n",
       "   1.63659731e-03 1.22424776e-02 4.47978724e-05 4.13520057e-07\n",
       "   2.98874921e-02 2.19068539e-08 7.30918110e-09 2.65912652e-03\n",
       "   4.56781331e-05 2.61386594e-04 7.51333624e-04 1.47584408e-06\n",
       "   3.87869808e-04 2.75081329e-04 1.98346107e-04 6.04963567e-03\n",
       "   1.33412316e-03 1.07597841e-02 4.40764172e-04 1.33060464e-04\n",
       "   2.65130382e-05 6.61937020e-04 2.69561984e-04 1.89895538e-04\n",
       "   2.51171400e-04 0.00000000e+00 6.26153971e-04 0.00000000e+00\n",
       "   1.79012771e-05 2.48143979e-07 6.05105100e-03 9.95240550e-04\n",
       "   2.41949207e-05 3.01915419e-03 0.00000000e+00 0.00000000e+00\n",
       "   0.00000000e+00 0.00000000e+00 0.00000000e+00 0.00000000e+00\n",
       "   0.00000000e+00 0.00000000e+00 0.00000000e+00 0.00000000e+00\n",
       "   0.00000000e+00 0.00000000e+00 2.43475924e-03 4.60194373e-02\n",
       "   0.00000000e+00 1.86313150e-04 1.21029860e-02 0.00000000e+00\n",
       "   9.28796806e-05 1.99541269e-03 0.00000000e+00 0.00000000e+00\n",
       "   0.00000000e+00 0.00000000e+00 0.00000000e+00 0.00000000e+00\n",
       "   0.00000000e+00 0.00000000e+00 0.00000000e+00 0.00000000e+00\n",
       "   4.29130213e-03 0.00000000e+00 0.00000000e+00 2.11502530e-03\n",
       "   3.29571900e-04 0.00000000e+00 0.00000000e+00 0.00000000e+00\n",
       "   0.00000000e+00 0.00000000e+00 3.56020106e-03 3.91362799e-04\n",
       "   1.37675624e-03 1.01074005e-07 1.05119930e-03 1.20374352e-07\n",
       "   0.00000000e+00 6.69205540e-05 1.88769197e-03 8.50603944e-06\n",
       "   3.34019050e-04 8.85421938e-04 1.15144800e-02 0.00000000e+00\n",
       "   1.21656859e-03 4.49271972e-07 3.07459023e-03 8.75015191e-03\n",
       "   2.11860308e-04 5.05948146e-03 9.90838580e-04 6.60951656e-05\n",
       "   3.59994851e-03 8.25993631e-04 1.77834531e-06 5.58043299e-03\n",
       "   4.26669747e-04 1.21325213e-04 2.81651182e-03 2.03198190e-04\n",
       "   7.29308553e-04 5.01593313e-04 0.00000000e+00 6.72441102e-04\n",
       "   1.40143371e-03 5.84044691e-03 2.67991329e-03 2.50208717e-05\n",
       "   1.54159104e-06 3.36438190e-06 2.91511681e-03 0.00000000e+00\n",
       "   1.23223812e-04 4.46929866e-06 2.17605877e-07 1.30809903e-06\n",
       "   4.16717011e-02 0.00000000e+00 0.00000000e+00 1.83738839e-02\n",
       "   0.00000000e+00 4.27029004e-05 3.97434757e-03 1.09965946e-04\n",
       "   1.05184660e-05 4.12315770e-03 6.82827603e-04 1.05941313e-05\n",
       "   1.03138480e-06 3.55429743e-04 1.33086103e-03 3.77937603e-07\n",
       "   3.30441311e-05 1.55812056e-03 0.00000000e+00 8.73084729e-07\n",
       "   1.80913137e-04 3.73199238e-04 7.17670736e-03 0.00000000e+00\n",
       "   3.36133719e-03 1.54753656e-05 4.44526148e-05 8.62933020e-05\n",
       "   5.90433011e-05 6.28642874e-03 0.00000000e+00 3.88533705e-06\n",
       "   0.00000000e+00 1.92650672e-02 1.09521143e-04 1.71439915e-02\n",
       "   9.31901121e-05 7.85734566e-04 4.87441492e-04 2.34335805e-04\n",
       "   1.31383866e-04 1.33366567e-04 2.86530312e-05 5.90191693e-09\n",
       "   5.40366937e-05 3.14514868e-04 3.88908629e-04 6.74571897e-04\n",
       "   0.00000000e+00 7.61379044e-04 2.45558248e-04 3.08332724e-06\n",
       "   4.91660483e-03 2.45590323e-05 2.81545656e-05 1.20595768e-03\n",
       "   4.47817926e-03 1.74897066e-04 1.62364696e-03 1.32781492e-04\n",
       "   6.79326604e-05 4.92724673e-05 0.00000000e+00 7.97708218e-04\n",
       "   8.05613900e-03 1.42439423e-03 6.58364522e-03 4.67505744e-04\n",
       "   2.60048684e-03 3.33359096e-05 1.86828153e-04 6.31615331e-03\n",
       "   1.52121467e-04 4.17094100e-05 3.69350575e-06 7.45441409e-07\n",
       "   1.12117440e-06 0.00000000e+00 4.47561043e-03 3.54809747e-05\n",
       "   5.47251565e-05 1.21782516e-04 9.38122934e-07 5.71982138e-03\n",
       "   0.00000000e+00 0.00000000e+00 0.00000000e+00 0.00000000e+00\n",
       "   0.00000000e+00 0.00000000e+00 0.00000000e+00 0.00000000e+00\n",
       "   0.00000000e+00 0.00000000e+00 0.00000000e+00 0.00000000e+00\n",
       "   0.00000000e+00 7.81147403e-08 6.68227941e-05 1.70603320e-04\n",
       "   8.17824399e-09 0.00000000e+00 1.72526493e-03 5.05868551e-03\n",
       "   0.00000000e+00 0.00000000e+00 0.00000000e+00 0.00000000e+00\n",
       "   0.00000000e+00 0.00000000e+00 0.00000000e+00 0.00000000e+00\n",
       "   0.00000000e+00 0.00000000e+00 3.31358257e-04 0.00000000e+00\n",
       "   0.00000000e+00 6.49961650e-05 4.10482878e-04 0.00000000e+00\n",
       "   0.00000000e+00 0.00000000e+00 0.00000000e+00 0.00000000e+00\n",
       "   3.93612886e-03 6.94973282e-05 0.00000000e+00 6.63830654e-03\n",
       "   7.53268874e-05 5.44499616e-04 1.29720114e-04 1.71581166e-03\n",
       "   0.00000000e+00 4.42360682e-03 4.84540736e-08 1.83519386e-04\n",
       "   5.15263009e-03 1.55497635e-04 4.82533718e-03 1.14825136e-03\n",
       "   3.45173991e-04 0.00000000e+00 6.09343601e-05 2.24014118e-08\n",
       "   3.85015066e-05 2.55016634e-04 3.18718066e-04 2.07599369e-04\n",
       "   8.27327312e-04 9.66411915e-06 2.55269880e-04 7.77167287e-04\n",
       "   1.84908562e-02 4.64377934e-07 1.42930823e-02 1.01145192e-03\n",
       "   1.14466258e-04 3.97483307e-03 7.42496762e-05 3.65466330e-04\n",
       "   2.78912362e-04 7.64452957e-05 1.07129931e-02 5.66406511e-05\n",
       "   1.57124113e-05 7.96651263e-03 2.39644036e-05 6.83370377e-03\n",
       "   7.41530701e-07 6.71952662e-03 2.87135681e-03 0.00000000e+00\n",
       "   5.05089494e-03 2.05417231e-05 4.05739497e-03 1.44086405e-04\n",
       "   1.85286934e-03 3.70738531e-03 3.58283498e-05 0.00000000e+00\n",
       "   2.96665744e-02 7.20211327e-04 3.30921924e-04 1.22331116e-06\n",
       "   4.80387687e-03 8.67258617e-03 0.00000000e+00 1.42370732e-03\n",
       "   1.27469360e-02 1.52029214e-03 3.00640790e-03 9.47180414e-06\n",
       "   1.03749768e-07 1.18181780e-03 0.00000000e+00 8.07499801e-08\n",
       "   1.29151375e-03 4.19811613e-03 2.97040955e-03 1.01652459e-07\n",
       "   1.68649410e-06 8.09933002e-03 0.00000000e+00 2.06713468e-04\n",
       "   1.05851832e-03 4.04516730e-04 1.73349988e-03 2.11023535e-04\n",
       "   3.62468543e-05 9.70873753e-03 8.16574916e-03 1.14923709e-08\n",
       "   3.74694738e-03 4.98121048e-04 2.13941489e-02 0.00000000e+00\n",
       "   0.00000000e+00 1.76044216e-05 2.94832796e-04 9.02106570e-04\n",
       "   8.85185852e-03 1.03218889e-04 9.71499544e-04 1.48232619e-02\n",
       "   3.94291089e-03 1.32292087e-03 5.17696566e-05 6.96186815e-03\n",
       "   7.34478258e-05 1.49014060e-03 2.42535303e-03 1.20308378e-02\n",
       "   5.31795763e-07 1.36843443e-02 5.95779730e-06 1.50842190e-02\n",
       "   7.67039672e-04 1.90610685e-03 0.00000000e+00 1.04603729e-03\n",
       "   7.21393554e-04 2.38404044e-04 3.64476960e-04 4.69910748e-03\n",
       "   7.28223557e-05 7.05874451e-04 3.24244371e-08 5.52433191e-08\n",
       "   1.30322182e-02 2.37115491e-05 0.00000000e+00 1.65144703e-02\n",
       "   9.37292816e-09 1.39768094e-04 2.71937260e-03 3.27483659e-04\n",
       "   8.52773347e-04 1.86652764e-07 2.18870512e-03 5.50786480e-05\n",
       "   2.06581749e-05 3.42431410e-06 6.19568199e-04 4.96570291e-04\n",
       "   0.00000000e+00 5.90336995e-05 7.63088706e-06 0.00000000e+00\n",
       "   2.76862620e-04 6.56970084e-05 5.73693276e-03 8.20004223e-04\n",
       "   5.04020079e-04 3.07527534e-03 9.92951458e-04 1.31328524e-03\n",
       "   1.78267553e-04 1.71639446e-04 5.40315123e-04 2.48666595e-03\n",
       "   3.65002080e-04 1.21436773e-03 1.17487580e-02 4.55525536e-04\n",
       "   2.13026620e-02 1.18149907e-03 2.69863391e-04 5.24495158e-05\n",
       "   9.39664176e-05 6.55848555e-03 1.22863800e-06 6.33003805e-05\n",
       "   1.16880845e-03 3.02218411e-04 1.02232934e-03 5.88760196e-04\n",
       "   1.43578655e-04 4.15210093e-08 2.32146905e-04 5.18250511e-05\n",
       "   0.00000000e+00 1.06917179e-03 4.09767516e-03 9.97846101e-04\n",
       "   7.48545103e-05 3.70254032e-04 2.16221914e-02 1.49218566e-04\n",
       "   2.92112647e-05 5.75282986e-03 3.76352831e-03 0.00000000e+00\n",
       "   4.94549669e-02 1.36614189e-02 2.68068286e-04 0.00000000e+00\n",
       "   1.43113252e-04 4.32509057e-04 5.07263881e-03 1.35843805e-07\n",
       "   4.00720707e-03 1.03099478e-06 2.26166074e-04 2.55330312e-04\n",
       "   2.67827649e-02 1.67389792e-02 1.51906486e-03 3.94931606e-03\n",
       "   0.00000000e+00 1.92357471e-05 3.68309890e-03 1.14467761e-02\n",
       "   6.45645265e-04 2.56603170e-04 1.43862159e-03 1.86116291e-06\n",
       "   3.04295141e-08 1.08243143e-02 6.83179306e-03 4.97382963e-04\n",
       "   0.00000000e+00 1.15840029e-04 1.11402325e-03 7.33938945e-09],\n",
       "  'start': [412],\n",
       "  'categories': ['alt.atheism',\n",
       "   'rec.autos',\n",
       "   'talk.politics.guns',\n",
       "   'comp.os.ms-windows.misc'],\n",
       "  'elapsed': 488.2035701274872,\n",
       "  'run': 0},\n",
       " {'hy_py': (150, 55, 170),\n",
       "  'g_best': id: 19217, target: Objectives: [0.725], Fitness: 0.725, solution: [0.00000000e+00 0.00000000e+00 0.00000000e+00 0.00000000e+00\n",
       "   7.46018708e-05 0.00000000e+00 0.00000000e+00 0.00000000e+00\n",
       "   0.00000000e+00 0.00000000e+00 0.00000000e+00 0.00000000e+00\n",
       "   0.00000000e+00 0.00000000e+00 0.00000000e+00 3.02038411e-04\n",
       "   0.00000000e+00 0.00000000e+00 0.00000000e+00 0.00000000e+00\n",
       "   0.00000000e+00 0.00000000e+00 0.00000000e+00 0.00000000e+00\n",
       "   0.00000000e+00 0.00000000e+00 0.00000000e+00 0.00000000e+00\n",
       "   0.00000000e+00 0.00000000e+00 0.00000000e+00 0.00000000e+00\n",
       "   1.93573012e-02 0.00000000e+00 0.00000000e+00 0.00000000e+00\n",
       "   0.00000000e+00 0.00000000e+00 0.00000000e+00 6.62350357e-03\n",
       "   5.66156958e-05 0.00000000e+00 0.00000000e+00 0.00000000e+00\n",
       "   0.00000000e+00 0.00000000e+00 7.64453895e-04 1.55700889e-06\n",
       "   1.04306846e-01 0.00000000e+00 0.00000000e+00 1.03965403e-02\n",
       "   0.00000000e+00 0.00000000e+00 1.17540660e-03 9.96163465e-05\n",
       "   0.00000000e+00 0.00000000e+00 0.00000000e+00 1.00392382e-02\n",
       "   0.00000000e+00 0.00000000e+00 0.00000000e+00 6.26555143e-04\n",
       "   0.00000000e+00 9.59688919e-05 0.00000000e+00 3.21770050e-04\n",
       "   0.00000000e+00 8.73703967e-04 0.00000000e+00 0.00000000e+00\n",
       "   0.00000000e+00 0.00000000e+00 2.62061033e-04 3.11372754e-04\n",
       "   9.52615888e-07 0.00000000e+00 2.27503114e-04 0.00000000e+00\n",
       "   0.00000000e+00 1.78421077e-03 9.64240209e-03 0.00000000e+00\n",
       "   0.00000000e+00 0.00000000e+00 0.00000000e+00 2.32653302e-06\n",
       "   0.00000000e+00 0.00000000e+00 1.41589628e-02 0.00000000e+00\n",
       "   0.00000000e+00 0.00000000e+00 0.00000000e+00 0.00000000e+00\n",
       "   3.91835906e-07 1.43942902e-06 1.24807003e-04 0.00000000e+00\n",
       "   0.00000000e+00 2.54032170e-04 2.00893252e-03 0.00000000e+00\n",
       "   0.00000000e+00 0.00000000e+00 0.00000000e+00 1.55274451e-03\n",
       "   0.00000000e+00 0.00000000e+00 0.00000000e+00 0.00000000e+00\n",
       "   0.00000000e+00 0.00000000e+00 0.00000000e+00 0.00000000e+00\n",
       "   0.00000000e+00 1.52769109e-04 0.00000000e+00 1.27344014e-04\n",
       "   4.47745284e-02 0.00000000e+00 1.46539081e-04 4.10638149e-04\n",
       "   0.00000000e+00 2.82181175e-05 7.74285855e-04 9.89837842e-04\n",
       "   1.13494774e-04 1.58881867e-03 7.20395180e-07 2.44224030e-03\n",
       "   0.00000000e+00 0.00000000e+00 0.00000000e+00 0.00000000e+00\n",
       "   5.05758512e-04 0.00000000e+00 1.63319712e-03 0.00000000e+00\n",
       "   9.42412867e-07 2.67566490e-04 0.00000000e+00 9.34663878e-03\n",
       "   0.00000000e+00 1.09484877e-03 0.00000000e+00 0.00000000e+00\n",
       "   0.00000000e+00 2.33867172e-05 2.51627024e-04 1.24678339e-05\n",
       "   4.82210007e-04 0.00000000e+00 0.00000000e+00 1.80993779e-03\n",
       "   1.06820073e-04 0.00000000e+00 8.61467861e-03 0.00000000e+00\n",
       "   0.00000000e+00 2.01705211e-03 0.00000000e+00 1.01109706e-05\n",
       "   0.00000000e+00 0.00000000e+00 0.00000000e+00 0.00000000e+00\n",
       "   0.00000000e+00 9.30769417e-03 0.00000000e+00 0.00000000e+00\n",
       "   0.00000000e+00 2.60504779e-04 4.05898229e-05 0.00000000e+00\n",
       "   0.00000000e+00 0.00000000e+00 0.00000000e+00 0.00000000e+00\n",
       "   3.48280335e-04 0.00000000e+00 3.09758808e-04 0.00000000e+00\n",
       "   0.00000000e+00 1.01828484e-02 2.48063935e-03 1.51910588e-03\n",
       "   6.18724500e-06 0.00000000e+00 0.00000000e+00 0.00000000e+00\n",
       "   0.00000000e+00 0.00000000e+00 0.00000000e+00 0.00000000e+00\n",
       "   1.90649650e-05 4.14937261e-04 0.00000000e+00 1.66959525e-04\n",
       "   4.61973774e-05 0.00000000e+00 0.00000000e+00 0.00000000e+00\n",
       "   7.43144367e-04 0.00000000e+00 0.00000000e+00 0.00000000e+00\n",
       "   0.00000000e+00 4.08813973e-06 1.00483945e-05 0.00000000e+00\n",
       "   0.00000000e+00 0.00000000e+00 1.16621315e-03 0.00000000e+00\n",
       "   6.43108330e-07 6.53130434e-04 3.15967596e-07 9.94580290e-05\n",
       "   0.00000000e+00 5.61045962e-06 0.00000000e+00 1.35642329e-04\n",
       "   2.64146004e-04 0.00000000e+00 7.92965396e-04 5.13653804e-03\n",
       "   6.43766986e-05 2.01145651e-06 0.00000000e+00 0.00000000e+00\n",
       "   1.99420174e-04 9.53298123e-06 0.00000000e+00 4.18648863e-04\n",
       "   0.00000000e+00 0.00000000e+00 0.00000000e+00 3.37234605e-04\n",
       "   0.00000000e+00 0.00000000e+00 0.00000000e+00 4.21303533e-04\n",
       "   2.87674248e-05 0.00000000e+00 4.06890024e-05 0.00000000e+00\n",
       "   0.00000000e+00 8.92035914e-04 7.37693800e-04 9.65455333e-05\n",
       "   1.09315905e-03 9.63546961e-04 0.00000000e+00 3.23780393e-04\n",
       "   0.00000000e+00 3.79917292e-04 0.00000000e+00 8.84810388e-06\n",
       "   4.31292710e-04 0.00000000e+00 4.53614580e-06 0.00000000e+00\n",
       "   4.74187784e-05 1.40814670e-04 5.67927432e-04 3.21322054e-05\n",
       "   7.21504619e-04 0.00000000e+00 0.00000000e+00 2.50957110e-05\n",
       "   0.00000000e+00 0.00000000e+00 0.00000000e+00 1.42628145e-05\n",
       "   1.52240751e-05 0.00000000e+00 0.00000000e+00 4.49655992e-05\n",
       "   0.00000000e+00 0.00000000e+00 5.00907275e-05 0.00000000e+00\n",
       "   0.00000000e+00 0.00000000e+00 5.19814945e-03 8.66654460e-06\n",
       "   0.00000000e+00 0.00000000e+00 3.04265844e-08 0.00000000e+00\n",
       "   1.47216478e-03 4.71461949e-04 5.78873329e-03 1.92429052e-04\n",
       "   1.74905076e-05 5.95809744e-04 0.00000000e+00 1.16774456e-04\n",
       "   0.00000000e+00 6.38206946e-06 2.03335119e-04 0.00000000e+00\n",
       "   0.00000000e+00 4.18381718e-04 3.80891144e-05 0.00000000e+00\n",
       "   0.00000000e+00 6.52886188e-05 1.23418606e-06 0.00000000e+00\n",
       "   5.14323148e-04 0.00000000e+00 0.00000000e+00 5.08330094e-03\n",
       "   1.40965424e-06 0.00000000e+00 9.66016622e-04 2.81346377e-04\n",
       "   3.91303991e-04 5.39047228e-04 0.00000000e+00 1.48386931e-06\n",
       "   1.18828407e-04 5.32489467e-07 0.00000000e+00 0.00000000e+00\n",
       "   0.00000000e+00 4.24676730e-08 4.39767452e-04 0.00000000e+00\n",
       "   1.78875922e-05 0.00000000e+00 5.64199855e-05 0.00000000e+00\n",
       "   1.22580180e-04 0.00000000e+00 2.52536344e-04 0.00000000e+00\n",
       "   2.38025982e-05 1.42999533e-04 8.15296154e-04 1.26318535e-06\n",
       "   0.00000000e+00 7.21662104e-05 3.94998320e-04 1.00421700e-03\n",
       "   1.82496801e-06 2.12011053e-04 7.17583640e-05 4.01176382e-05\n",
       "   5.96933418e-04 7.20366998e-05 0.00000000e+00 0.00000000e+00\n",
       "   1.89457278e-04 0.00000000e+00 1.46266984e-04 1.57881044e-04\n",
       "   0.00000000e+00 5.84880089e-04 5.03012903e-05 1.49137944e-05\n",
       "   3.04326665e-06 1.48653665e-04 3.12670572e-04 6.83726001e-05\n",
       "   8.91466261e-04 4.12884177e-04 1.28338625e-03 0.00000000e+00\n",
       "   1.37092400e-09 1.83432477e-04 1.31518044e-04 0.00000000e+00\n",
       "   1.18524747e-05 1.47020634e-04 0.00000000e+00 3.76222949e-03\n",
       "   0.00000000e+00 6.59377991e-07 1.30675050e-03 1.15024605e-04\n",
       "   1.26883873e-03 1.08649097e-03 3.45958698e-05 2.26971843e-03\n",
       "   6.33471375e-03 1.40454635e-06 0.00000000e+00 1.95037822e-07\n",
       "   0.00000000e+00 8.96109570e-05 5.59913720e-02 0.00000000e+00\n",
       "   0.00000000e+00 2.28662664e-03 9.29828058e-07 6.72705210e-06\n",
       "   3.54978078e-04 2.41591727e-06 1.63016755e-02 1.32109099e-05\n",
       "   0.00000000e+00 0.00000000e+00 0.00000000e+00 8.79772326e-04\n",
       "   0.00000000e+00 1.73272367e-02 9.41677828e-05 7.49336886e-04\n",
       "   1.34069629e-04 2.03494448e-03 4.17301981e-02 1.77316208e-06\n",
       "   0.00000000e+00 1.85431529e-04 0.00000000e+00 4.00596338e-04\n",
       "   3.63695756e-05 0.00000000e+00 0.00000000e+00 2.35647025e-02\n",
       "   0.00000000e+00 3.11648320e-06 7.17930585e-05 0.00000000e+00\n",
       "   1.41770108e-04 2.58825639e-05 1.89989811e-04 6.18061345e-05\n",
       "   2.64879988e-03 1.35846716e-03 5.67453901e-04 7.66743526e-06\n",
       "   7.06047936e-04 4.72209909e-03 0.00000000e+00 1.34869442e-03\n",
       "   6.55025357e-06 6.83278692e-05 0.00000000e+00 1.14035369e-04\n",
       "   1.10252811e-03 2.18084172e-03 8.64914919e-05 0.00000000e+00\n",
       "   3.81444778e-04 1.09499128e-04 1.89005878e-04 7.72551324e-06\n",
       "   2.08780146e-04 1.23534345e-07 0.00000000e+00 4.52127595e-05\n",
       "   1.24396546e-03 7.60478792e-03 3.74939887e-05 5.69815514e-05\n",
       "   2.41701929e-06 0.00000000e+00 0.00000000e+00 4.80199501e-04\n",
       "   5.03048028e-07 1.19276048e-07 1.43137758e-06 2.94837827e-05\n",
       "   6.31697924e-05 5.89246089e-04 1.44081494e-04 1.36495084e-04\n",
       "   1.90554373e-06 1.15577219e-04 1.02925996e-03 2.21219340e-05\n",
       "   1.26901025e-02 0.00000000e+00 2.69565928e-06 2.61106165e-05\n",
       "   1.85724888e-02 3.11448975e-03 1.75809493e-03 0.00000000e+00\n",
       "   5.19183283e-04 0.00000000e+00 0.00000000e+00 3.03369493e-07\n",
       "   6.49931776e-06 6.13020550e-06 1.57385638e-04 0.00000000e+00\n",
       "   6.45093228e-07 1.33584210e-04 1.99639467e-05 5.97482538e-04\n",
       "   0.00000000e+00 1.00924253e-06 1.77989125e-02 0.00000000e+00\n",
       "   3.64702016e-04 1.92949710e-05 0.00000000e+00 1.65165614e-04\n",
       "   1.11491281e-02 0.00000000e+00 3.80883934e-04 1.33318522e-04\n",
       "   1.19044279e-04 1.49619839e-03 6.77435534e-07 7.13610172e-04\n",
       "   0.00000000e+00 1.37849106e-06 1.55462288e-04 1.37051257e-04\n",
       "   1.86803144e-03 3.44051674e-06 7.17260115e-04 4.05486267e-03\n",
       "   3.54372898e-05 4.15277842e-04 8.78240543e-04 3.15659292e-05\n",
       "   1.38010673e-04 2.61386933e-05 5.50120636e-03 8.45679976e-04\n",
       "   1.00603160e-04 1.50346804e-03 4.24715775e-03 2.34502908e-04\n",
       "   2.40404691e-03 0.00000000e+00 3.60616715e-06 3.23774630e-03\n",
       "   3.64494873e-05 6.45374776e-05 2.06530000e-03 2.42251162e-04\n",
       "   0.00000000e+00 3.07670928e-09 0.00000000e+00 4.55420662e-05\n",
       "   0.00000000e+00 8.53818349e-04 3.94446170e-04 4.01724947e-07\n",
       "   2.97378923e-03 6.58503524e-04 0.00000000e+00 1.59839512e-03\n",
       "   2.63244957e-04 4.82298404e-05 7.29086182e-04 0.00000000e+00\n",
       "   1.66397228e-09 0.00000000e+00 0.00000000e+00 6.91493909e-07\n",
       "   2.30169723e-03 0.00000000e+00 1.52782333e-04 9.25383482e-04\n",
       "   1.82012633e-07 0.00000000e+00 1.73966864e-03 1.59104366e-04\n",
       "   1.00096783e-03 0.00000000e+00 1.94845666e-03 7.04569595e-05\n",
       "   6.78619135e-05 5.46721715e-03 8.99823042e-04 9.05660809e-05\n",
       "   0.00000000e+00 5.56353975e-03 2.20450195e-03 0.00000000e+00\n",
       "   0.00000000e+00 3.62676722e-03 7.08353844e-04 0.00000000e+00\n",
       "   1.13930402e-02 7.04867818e-04 2.35852027e-06 6.38986269e-05\n",
       "   1.40577333e-06 2.04393959e-08 0.00000000e+00 7.26569877e-06\n",
       "   0.00000000e+00 0.00000000e+00 7.94945518e-04 1.26701027e-04\n",
       "   8.89588360e-04 3.04779938e-02 2.75026963e-04 1.15395007e-07\n",
       "   9.09852320e-05 1.20666091e-07 4.94760095e-05 1.09566512e-04\n",
       "   0.00000000e+00 7.33778462e-05 0.00000000e+00 5.77916901e-05\n",
       "   0.00000000e+00 7.25187859e-08 4.82901420e-05 3.64548314e-04\n",
       "   6.96298189e-06 0.00000000e+00 3.43724633e-05 0.00000000e+00\n",
       "   0.00000000e+00 0.00000000e+00 0.00000000e+00 1.42973198e-04\n",
       "   0.00000000e+00 2.30400817e-07 2.48404309e-04 5.71791778e-04\n",
       "   2.05068614e-03 6.08692717e-06 0.00000000e+00 1.98547490e-04\n",
       "   0.00000000e+00 0.00000000e+00 2.23147878e-02 2.28422058e-04\n",
       "   0.00000000e+00 0.00000000e+00 3.18671611e-05 1.81291330e-03\n",
       "   2.50033433e-04 0.00000000e+00 0.00000000e+00 3.15769965e-05\n",
       "   0.00000000e+00 2.50851750e-03 4.12778747e-06 1.34136992e-05\n",
       "   1.63827724e-04 4.15081544e-06 0.00000000e+00 4.62548363e-07\n",
       "   0.00000000e+00 7.68450029e-04 0.00000000e+00 1.02108508e-06\n",
       "   0.00000000e+00 1.18702331e-06 3.48356906e-03 6.04823683e-05\n",
       "   2.35627249e-02 2.23331407e-04 7.38998087e-04 0.00000000e+00\n",
       "   1.02241864e-02 2.54457696e-03 8.48686687e-05 1.84384894e-03\n",
       "   6.83423228e-06 2.86745722e-07 3.06378080e-06 9.21717498e-05\n",
       "   0.00000000e+00 1.41174799e-03 5.38854693e-04 3.48260176e-04\n",
       "   1.75779713e-02 0.00000000e+00 0.00000000e+00 1.39675115e-03\n",
       "   4.34338383e-04 1.98852538e-03 2.03654005e-04 0.00000000e+00],\n",
       "  'start': [214],\n",
       "  'categories': ['alt.atheism',\n",
       "   'rec.autos',\n",
       "   'talk.politics.guns',\n",
       "   'comp.os.ms-windows.misc'],\n",
       "  'elapsed': 410.5511293411255,\n",
       "  'run': 1},\n",
       " {'hy_py': (150, 55, 200),\n",
       "  'g_best': id: 19579, target: Objectives: [0.735], Fitness: 0.735, solution: [0.00000000e+00 0.00000000e+00 0.00000000e+00 8.61545101e-03\n",
       "   1.92784405e-04 4.93016347e-03 1.33303549e-02 0.00000000e+00\n",
       "   1.27569226e-02 1.21340762e-04 6.21265374e-03 1.23482295e-04\n",
       "   1.20330678e-06 3.92768800e-06 0.00000000e+00 0.00000000e+00\n",
       "   2.02549612e-03 5.86098936e-04 9.34184111e-05 1.66863303e-03\n",
       "   1.33451658e-03 0.00000000e+00 7.34646106e-04 2.20669536e-04\n",
       "   1.80112276e-03 8.56787458e-05 3.17714569e-02 7.48831671e-03\n",
       "   6.27614668e-05 4.51436537e-04 5.71342283e-03 1.28237761e-04\n",
       "   1.43454309e-03 2.23588375e-05 3.64745133e-03 0.00000000e+00\n",
       "   4.13129046e-04 1.09868788e-02 0.00000000e+00 4.16551197e-04\n",
       "   0.00000000e+00 2.31779486e-05 8.47311973e-04 1.19248725e-04\n",
       "   1.85265163e-04 0.00000000e+00 3.41793053e-05 1.64420702e-04\n",
       "   2.25090234e-04 5.63690393e-05 2.27923930e-03 8.04340087e-03\n",
       "   1.02532453e-02 4.74819733e-04 0.00000000e+00 3.51701766e-04\n",
       "   1.80294856e-03 2.44809427e-04 3.29567685e-04 4.19280295e-04\n",
       "   1.21939446e-03 1.54517672e-03 6.34126912e-03 2.34319019e-04\n",
       "   0.00000000e+00 1.40376350e-04 0.00000000e+00 3.74681386e-04\n",
       "   1.42351128e-04 6.83004514e-04 4.05293610e-04 2.32093808e-08\n",
       "   5.06540300e-04 0.00000000e+00 0.00000000e+00 4.75705237e-03\n",
       "   1.21039969e-04 2.26165908e-03 9.54532002e-04 2.87788555e-03\n",
       "   3.34317423e-04 8.73123740e-04 8.67430834e-04 1.14672454e-03\n",
       "   9.50991343e-03 9.14195919e-04 1.47460099e-03 6.45768700e-04\n",
       "   0.00000000e+00 4.85953129e-04 0.00000000e+00 4.32474810e-04\n",
       "   3.41626021e-03 4.86802529e-03 1.64327292e-03 1.94598570e-04\n",
       "   7.16844879e-04 2.85189242e-09 1.24244298e-04 5.71211191e-03\n",
       "   1.89688484e-04 8.00710644e-03 6.60377585e-06 4.31002864e-03\n",
       "   6.17499136e-07 1.56507176e-04 1.00080610e-03 9.94975191e-03\n",
       "   0.00000000e+00 2.34479350e-03 0.00000000e+00 4.91997402e-04\n",
       "   4.90784053e-05 1.08271507e-04 0.00000000e+00 6.73518387e-06\n",
       "   0.00000000e+00 7.61496051e-03 6.54684819e-04 4.52956896e-06\n",
       "   4.70781290e-05 5.02241497e-04 4.27784314e-07 8.13227487e-04\n",
       "   1.79282763e-03 1.44784403e-03 1.20751876e-03 9.55937584e-04\n",
       "   6.61965687e-03 7.43785870e-03 5.58070074e-04 4.47873000e-05\n",
       "   0.00000000e+00 5.33685899e-04 3.33624326e-04 0.00000000e+00\n",
       "   3.69395585e-04 2.43322894e-02 1.97069232e-04 1.37254687e-02\n",
       "   9.55055754e-04 1.75185113e-03 0.00000000e+00 0.00000000e+00\n",
       "   0.00000000e+00 1.81068930e-02 4.69833318e-04 0.00000000e+00\n",
       "   0.00000000e+00 0.00000000e+00 5.06879044e-05 0.00000000e+00\n",
       "   1.46956102e-02 3.49447863e-03 7.02725794e-03 1.80422376e-03\n",
       "   2.94819242e-04 3.56856533e-05 1.24763735e-03 1.77889014e-03\n",
       "   5.05224570e-03 1.18827975e-02 9.10883700e-03 1.42804298e-03\n",
       "   1.83968198e-05 1.25680133e-03 4.11076774e-04 3.27501913e-03\n",
       "   0.00000000e+00 0.00000000e+00 1.34150035e-03 9.61648286e-05\n",
       "   2.63070603e-04 1.78251658e-03 6.93628067e-04 1.60547237e-06\n",
       "   1.09449762e-03 7.58291354e-06 3.38532951e-03 4.85500475e-04\n",
       "   0.00000000e+00 1.23295653e-03 1.85809283e-03 4.24990606e-02\n",
       "   3.72632846e-03 8.86422169e-04 1.20811307e-03 1.63265870e-04\n",
       "   1.04177656e-03 0.00000000e+00 5.83583610e-03 0.00000000e+00\n",
       "   3.76122461e-04 0.00000000e+00 2.93656255e-04 1.17485980e-05\n",
       "   1.00295219e-03 2.55223025e-04 3.80003674e-03 4.92239999e-05\n",
       "   5.13760003e-03 4.06750106e-04 0.00000000e+00 3.46251221e-03\n",
       "   2.29851025e-03 6.80523529e-04 1.00075139e-02 0.00000000e+00\n",
       "   4.96005915e-04 2.12010721e-03 1.07170930e-03 2.10107148e-03\n",
       "   5.53956127e-03 3.20679016e-04 1.98823826e-02 0.00000000e+00\n",
       "   4.03053445e-04 8.92923140e-04 3.57563810e-04 7.48452437e-07\n",
       "   1.94465355e-02 1.43154062e-04 1.35076527e-04 2.17951420e-04\n",
       "   2.24390944e-03 8.08698356e-04 8.97062765e-05 4.84115087e-03\n",
       "   3.06730366e-04 6.45426692e-03 5.56463527e-03 5.31666841e-04\n",
       "   1.77678389e-03 4.48416868e-04 2.02948176e-07 0.00000000e+00\n",
       "   4.70296502e-03 5.05276014e-04 1.39818972e-04 4.01584151e-04\n",
       "   0.00000000e+00 5.36523151e-04 1.79984278e-02 3.93775314e-03\n",
       "   1.35849387e-03 1.12891627e-03 0.00000000e+00 5.48248520e-04\n",
       "   4.69341088e-05 1.12131404e-03 8.26175313e-07 2.43005710e-04\n",
       "   0.00000000e+00 5.00611255e-04 6.46709532e-05 2.31744388e-04\n",
       "   1.79490093e-04 5.67253465e-03 2.39756617e-05 1.04389353e-04\n",
       "   5.51210587e-06 2.68655086e-03 1.87809906e-04 1.42220504e-05\n",
       "   2.40649272e-04 4.55136717e-03 1.60436254e-02 0.00000000e+00\n",
       "   4.28615283e-03 7.57609538e-02 1.76558613e-02 6.23873352e-04\n",
       "   6.08252179e-04 1.35928414e-03 0.00000000e+00 6.91874842e-04\n",
       "   9.21752442e-05 8.91388602e-04 7.53914982e-04 5.19536030e-04\n",
       "   5.80074054e-03 1.65058732e-04 5.45104533e-04 1.03176668e-02\n",
       "   0.00000000e+00 7.28299810e-05 2.86975871e-04 3.25664654e-02\n",
       "   0.00000000e+00 2.69442574e-04 3.36398765e-04 6.50097041e-03\n",
       "   1.79976286e-04 0.00000000e+00 2.37097884e-03 2.29070950e-04\n",
       "   1.80353381e-04 5.96509537e-04 2.45315168e-05 2.31795633e-03\n",
       "   7.76789552e-03 6.67672132e-03 1.56044999e-02 1.54564600e-03\n",
       "   6.87469662e-03 1.83443212e-04 6.13105770e-09 8.20057264e-04\n",
       "   2.06546547e-06 0.00000000e+00 0.00000000e+00 0.00000000e+00\n",
       "   4.60195759e-03 0.00000000e+00 3.60521622e-04 2.12814223e-04\n",
       "   2.80872806e-04 3.00621945e-03 1.02245284e-03 0.00000000e+00\n",
       "   6.55604820e-04 1.34953710e-04 7.06418362e-03 0.00000000e+00\n",
       "   9.87935449e-05 4.85093851e-04 4.10361292e-04 1.87839525e-04\n",
       "   0.00000000e+00 1.53371220e-02 1.67102944e-06 1.74184903e-04\n",
       "   2.79225019e-03 1.07506222e-05 2.66991740e-03 7.78674977e-04\n",
       "   4.00066071e-03 1.77712813e-04 1.73972258e-07 3.40700898e-02\n",
       "   1.16982558e-02 4.27634456e-04 3.61304031e-03 0.00000000e+00\n",
       "   5.71806241e-04 9.20115509e-04 0.00000000e+00 1.51011855e-03\n",
       "   0.00000000e+00 0.00000000e+00 3.89393868e-05 4.17412638e-04\n",
       "   1.63971505e-03 1.16784786e-04 2.24553567e-04 4.04443266e-04\n",
       "   2.11330114e-02 3.24346062e-03 4.97261750e-05 2.57381116e-06\n",
       "   1.77005999e-04 1.01809487e-03 0.00000000e+00 1.78268088e-04\n",
       "   1.00179599e-04 6.40527159e-03 2.42247717e-03 0.00000000e+00\n",
       "   0.00000000e+00 0.00000000e+00 8.17211062e-05 1.17754004e-03\n",
       "   1.89806167e-03 1.83532866e-03 0.00000000e+00 8.49017713e-04\n",
       "   8.98669127e-03 1.06451934e-03 3.21716086e-02 8.16971298e-03\n",
       "   0.00000000e+00 6.05098602e-06 6.72214449e-05 8.59793300e-03\n",
       "   1.34826677e-03 3.36178216e-03 4.36783444e-05 2.10321170e-04\n",
       "   5.91379554e-03 4.17959377e-04 9.86801270e-03 0.00000000e+00\n",
       "   5.22965916e-04 0.00000000e+00 7.32115784e-04 4.15200108e-03\n",
       "   1.37129585e-02 1.75853783e-04 7.64895665e-03 2.81536816e-03\n",
       "   2.23713279e-03 0.00000000e+00 9.38323596e-05 1.16718992e-02\n",
       "   7.70117439e-09 1.42009399e-03 1.39778445e-02 0.00000000e+00\n",
       "   9.22652411e-06 9.44745187e-10 4.44575301e-04 1.91169209e-04\n",
       "   1.06580875e-02 2.80342670e-02 3.72316336e-05 0.00000000e+00\n",
       "   4.80974975e-04 8.79681746e-04 8.45942642e-04 3.47742337e-03\n",
       "   2.82556613e-04 2.22852064e-04 1.36688693e-03 1.53979917e-04\n",
       "   1.70226641e-03 1.86800799e-03 1.65784308e-03 5.11939158e-04\n",
       "   4.47989247e-04 5.94477697e-04 2.60521841e-04 9.37605587e-04\n",
       "   3.76641865e-04 3.68128347e-04 1.67482303e-04 1.01048414e-06\n",
       "   5.06607473e-04 5.88695910e-02 3.36366283e-04 0.00000000e+00\n",
       "   0.00000000e+00 2.28446512e-03 4.30197305e-04 1.84560670e-03\n",
       "   2.19104405e-09 1.54700043e-03 4.38094702e-04 1.24122582e-04\n",
       "   0.00000000e+00 6.54498976e-04 5.53254907e-04 1.63757210e-03\n",
       "   8.24439699e-04 3.29684543e-04 4.34583102e-04 1.07765031e-02\n",
       "   9.12059781e-04 0.00000000e+00 3.53341127e-04 0.00000000e+00\n",
       "   2.59980259e-04 7.85588884e-04 3.43264694e-04 8.80909438e-05\n",
       "   4.62787978e-04 5.48743652e-03 3.23505530e-04 2.21238775e-02\n",
       "   0.00000000e+00 1.60624869e-04 1.07567468e-03 1.76444193e-03\n",
       "   3.72952420e-02 3.80795836e-03 0.00000000e+00 1.33747117e-04\n",
       "   6.00564872e-03 0.00000000e+00 1.74665157e-04 1.79792953e-02\n",
       "   9.62837175e-04 1.91952171e-02 0.00000000e+00 2.39994295e-04\n",
       "   2.18021107e-03 2.44581126e-04 3.15495060e-04 2.17398113e-04\n",
       "   1.76524160e-05 5.66487998e-04 2.26393265e-04 0.00000000e+00\n",
       "   1.98045879e-04 6.98830686e-03 1.53334599e-03 7.60485721e-03\n",
       "   2.92611928e-02 0.00000000e+00 8.91779288e-04 3.81562022e-02\n",
       "   1.03975834e-03 7.08371829e-05 4.56807893e-03 6.81115050e-04\n",
       "   2.60900527e-03 0.00000000e+00 4.00683934e-05 2.26517483e-05\n",
       "   5.43092979e-08 1.12160615e-05 1.74826692e-04 5.41090678e-05\n",
       "   4.15526634e-04 1.41422446e-03 1.34900132e-03 5.49597867e-04\n",
       "   3.94920486e-05 2.27012662e-02 5.55228217e-06 3.49196077e-04\n",
       "   6.50732845e-03 3.86329258e-05 4.37968213e-04 4.76002187e-04\n",
       "   3.30466776e-04 1.51833618e-03 5.80460347e-04 1.95888706e-03\n",
       "   1.05008083e-05 1.39044364e-03 0.00000000e+00 0.00000000e+00\n",
       "   5.99288289e-04 4.43451099e-03 1.21084669e-02 7.51754158e-05\n",
       "   4.11894949e-04 1.42292328e-05 0.00000000e+00 1.78442756e-02\n",
       "   1.22693955e-03 2.00474271e-04 1.92492027e-02 0.00000000e+00\n",
       "   1.83227687e-04 2.24866293e-03 1.26938368e-02 2.48418280e-04\n",
       "   0.00000000e+00 0.00000000e+00 1.54816186e-03 1.13336214e-03\n",
       "   5.53104878e-03 1.05856662e-03 1.73797395e-03 8.75351340e-04\n",
       "   5.61571143e-03 5.51526447e-03 4.13699592e-04 8.33696449e-04\n",
       "   9.99934762e-05 7.10740153e-04 2.06217535e-04 1.49427732e-03\n",
       "   3.49978154e-03 1.10196233e-02 2.95637729e-03 3.03077049e-03\n",
       "   0.00000000e+00 4.97813768e-04 7.42251177e-03 4.96942217e-04\n",
       "   5.14361885e-05 3.73679438e-04 1.63545940e-03 7.97715742e-04\n",
       "   7.17136887e-03 1.25420593e-04 4.98866735e-04 7.89149489e-04\n",
       "   0.00000000e+00 1.52350611e-04 1.96849149e-05 0.00000000e+00\n",
       "   3.40856176e-04 2.46035612e-04 4.41340308e-04 5.48432492e-03\n",
       "   4.21599803e-03 1.12547751e-03 1.63516011e-02 1.19894164e-05\n",
       "   1.78803786e-03 0.00000000e+00 4.60760478e-07 3.46016318e-02\n",
       "   6.52369155e-04 3.16655577e-04 6.31766849e-04 1.92272397e-02\n",
       "   2.74969888e-02 6.52999989e-04 1.83664782e-02 8.18660981e-04\n",
       "   1.61273154e-02 4.21321828e-05 3.55902944e-04 4.30344979e-03\n",
       "   1.22998980e-03 2.13535667e-02 0.00000000e+00 4.24029999e-03\n",
       "   6.40672078e-05 6.62148603e-03 2.00917427e-02 3.32344995e-07\n",
       "   5.31125326e-03 7.72518884e-04 1.14117369e-04 3.35490782e-04\n",
       "   3.73704954e-02 5.98062846e-04 2.15634958e-04 1.11396308e-02\n",
       "   8.19168370e-04 6.87480682e-03 2.31008063e-02 9.18103458e-04\n",
       "   9.12089166e-03 4.02101629e-03 9.85694590e-03 2.12717542e-03\n",
       "   5.21618938e-03 5.84457420e-04 1.28330207e-03 9.65077232e-03\n",
       "   0.00000000e+00 2.05985099e-04 1.42643872e-02 1.23455024e-04\n",
       "   2.12806821e-03 7.93215960e-04 0.00000000e+00 1.90962887e-03\n",
       "   1.54146365e-03 4.41885337e-05 2.84924629e-03 6.17883793e-03\n",
       "   1.38944490e-05 4.04776261e-04 1.36133536e-02 7.30594665e-04\n",
       "   0.00000000e+00 5.62412893e-04 1.79344903e-04 2.09799905e-02\n",
       "   5.96563639e-03 7.65047978e-03 2.04051646e-04 2.51186030e-03\n",
       "   0.00000000e+00 1.78474901e-03 0.00000000e+00 1.84873833e-05\n",
       "   4.21299618e-03 4.37573064e-04 3.44766966e-04 2.11926052e-02\n",
       "   2.55431731e-04 0.00000000e+00 2.51030790e-03 1.05124351e-03\n",
       "   3.21954947e-02 5.34133380e-02 1.57285579e-05 1.07649357e-03\n",
       "   7.55834826e-03 3.74331297e-04 1.26729820e-03 4.93489843e-03\n",
       "   5.76783796e-02 8.23391475e-04 9.78049066e-03 9.23136498e-05\n",
       "   1.78762525e-03 7.87212228e-03 9.44551451e-04 4.45380264e-03\n",
       "   7.40106380e-03 1.53665255e-03 2.07141959e-05 2.65666932e-03\n",
       "   4.52049914e-03 9.52492350e-04 9.30342535e-04 9.60130626e-04\n",
       "   3.94926080e-03 0.00000000e+00 1.67974157e-02 4.45148279e-04\n",
       "   2.07485492e-04 1.47868227e-04 5.59298072e-03 8.75793515e-04\n",
       "   0.00000000e+00 1.10824822e-04 1.24190809e-03 3.97504139e-03\n",
       "   5.26247360e-06 4.85372477e-04 1.94211921e-03 0.00000000e+00\n",
       "   1.11698983e-03 1.54432056e-02 5.46135280e-04 5.72858602e-04\n",
       "   2.33078063e-02 2.85537085e-02 4.34514076e-04 5.60046149e-03\n",
       "   5.59437564e-04 2.34092334e-05 5.00790999e-04 3.26656134e-04\n",
       "   2.99364402e-04 1.00258760e-03 1.06277906e-04 2.32413943e-04\n",
       "   7.26269702e-04 8.10096914e-04 6.16269644e-06 1.80055687e-02\n",
       "   8.70943406e-03 1.13173723e-04 0.00000000e+00 5.04947248e-02\n",
       "   3.82860357e-05 4.29911537e-04 2.17014757e-03 2.22864293e-02\n",
       "   9.55448655e-03 0.00000000e+00 1.68022351e-03 3.51721616e-04\n",
       "   0.00000000e+00 1.44156335e-04 8.28749884e-04 2.53952162e-04\n",
       "   1.74431654e-03 4.11784060e-02 7.99612358e-03 1.80956526e-02\n",
       "   0.00000000e+00 0.00000000e+00 5.46030384e-02 7.53826301e-04\n",
       "   3.16165584e-03 6.20835186e-05 5.71182930e-04 3.78071639e-07\n",
       "   2.94936271e-03 6.29621392e-04 6.39013208e-04 6.41769280e-03\n",
       "   8.07054020e-03 4.62986732e-02 9.28032407e-03 8.83985096e-07\n",
       "   1.52346825e-05 4.57557965e-04 8.81729927e-04 2.04767397e-02\n",
       "   3.02624958e-02 2.47953838e-05 1.23362215e-03 7.44341992e-05\n",
       "   0.00000000e+00 3.97693570e-04 0.00000000e+00 6.21472216e-04\n",
       "   4.81562390e-07 8.88039840e-03 3.12857743e-03 2.09946355e-04\n",
       "   1.02727855e-03 1.55971526e-03 2.90878431e-04 1.98886783e-05\n",
       "   3.84568472e-04 4.81263243e-02 9.53306877e-03 9.51945734e-03\n",
       "   3.46409479e-02 1.79061533e-03 9.34970988e-06 0.00000000e+00\n",
       "   4.23887480e-04 2.54722714e-04 2.05527123e-03 1.10204032e-03],\n",
       "  'start': [850],\n",
       "  'categories': ['comp.windows.x',\n",
       "   'misc.forsale',\n",
       "   'comp.sys.mac.hardware',\n",
       "   'alt.atheism'],\n",
       "  'elapsed': 429.34498047828674,\n",
       "  'run': 0}]"
      ]
     },
     "execution_count": 53,
     "metadata": {},
     "output_type": "execute_result"
    }
   ],
   "source": [
    "sos_dataset_200"
   ]
  },
  {
   "cell_type": "code",
   "execution_count": 54,
   "metadata": {},
   "outputs": [
    {
     "data": {
      "text/plain": [
       "(0.745, 0.7035714285714286, 0.04180860179046255)"
      ]
     },
     "execution_count": 54,
     "metadata": {},
     "output_type": "execute_result"
    }
   ],
   "source": [
    "best_value_sos_dt_200doc , mean_value_sos_dt_200doc , std_value_sos_dt_200doc  = return_results_of_dataset(sos_dataset_200)\n",
    "best_value_sos_dt_200doc , mean_value_sos_dt_200doc , std_value_sos_dt_200doc "
   ]
  },
  {
   "cell_type": "markdown",
   "metadata": {},
   "source": [
    "---"
   ]
  },
  {
   "cell_type": "code",
   "execution_count": 55,
   "metadata": {},
   "outputs": [
    {
     "data": {
      "text/plain": [
       "(0.91, 0.807142857142857, 0.06284090699406504)"
      ]
     },
     "execution_count": 55,
     "metadata": {},
     "output_type": "execute_result"
    }
   ],
   "source": [
    "best_value_sos_dt_100_20news , mean_value_sos_dt_100_20news , std_value_sos_dt_100_20news  = return_results_of_dataset(sos_dataset_100_20news)\n",
    "best_value_sos_dt_100_20news , mean_value_sos_dt_100_20news , std_value_sos_dt_100_20news "
   ]
  },
  {
   "cell_type": "code",
   "execution_count": 70,
   "metadata": {},
   "outputs": [],
   "source": [
    "info= namedtuple(\"test_info_bbs_sos_100\",[\"hy_pa\",\"g_best\",\"elapsed\"])\n",
    "def return_info_of_dataset(dataset_res):\n",
    "    tests_inf = []\n",
    "    \n",
    "    for test in dataset_res :\n",
    "        tests_inf.append(info(test[\"hy_py\"] , test[\"g_best\"].target.fitness , test[\"elapsed\"]))\n",
    "\n",
    "    return tests_inf"
   ]
  },
  {
   "cell_type": "code",
   "execution_count": 71,
   "metadata": {},
   "outputs": [
    {
     "data": {
      "text/plain": [
       "[test_info_bbs_sos_100(hy_pa=(350, 20, 60), g_best=0.64, elapsed=288.773371219635),\n",
       " test_info_bbs_sos_100(hy_pa=(350, 20, 60), g_best=0.64, elapsed=357.20071506500244),\n",
       " test_info_bbs_sos_100(hy_pa=(250, 30, 100), g_best=0.735, elapsed=368.9421534538269),\n",
       " test_info_bbs_sos_100(hy_pa=(250, 30, 100), g_best=0.705, elapsed=470.0131163597107),\n",
       " test_info_bbs_sos_100(hy_pa=(150, 55, 170), g_best=0.745, elapsed=488.2035701274872),\n",
       " test_info_bbs_sos_100(hy_pa=(150, 55, 170), g_best=0.725, elapsed=410.5511293411255),\n",
       " test_info_bbs_sos_100(hy_pa=(150, 55, 200), g_best=0.735, elapsed=429.34498047828674)]"
      ]
     },
     "execution_count": 71,
     "metadata": {},
     "output_type": "execute_result"
    }
   ],
   "source": [
    "test_info_20newa_sos_200 = return_info_of_dataset(sos_dataset_200)\n",
    "test_info_20newa_sos_200"
   ]
  },
  {
   "cell_type": "markdown",
   "metadata": {},
   "source": [
    "---"
   ]
  },
  {
   "cell_type": "markdown",
   "metadata": {},
   "source": [
    "## PSO"
   ]
  },
  {
   "cell_type": "code",
   "execution_count": 56,
   "metadata": {},
   "outputs": [],
   "source": [
    "all_res_pso_20news  = loader(folder_path,algo_name=\"pso\")"
   ]
  },
  {
   "cell_type": "code",
   "execution_count": 57,
   "metadata": {},
   "outputs": [],
   "source": [
    "pso_dataset_1427 , pso_dataset_200 , pso_dataset_100_20news  = all_res_pso_20news[\"1427\"] , all_res_pso_20news[\"200\"] ,all_res_pso_20news[\"100\"]"
   ]
  },
  {
   "cell_type": "markdown",
   "metadata": {},
   "source": [
    "---"
   ]
  },
  {
   "cell_type": "code",
   "execution_count": 58,
   "metadata": {},
   "outputs": [
    {
     "data": {
      "text/plain": [
       "(0.700770847932726, 0.6596589581873394, 0.026263069795118613)"
      ]
     },
     "execution_count": 58,
     "metadata": {},
     "output_type": "execute_result"
    }
   ],
   "source": [
    "best_value_pso_dt_1427doc , mean_value_pso_dt_1427doc , std_value_pso_dt_1427doc  = return_results_of_dataset(pso_dataset_1427)\n",
    "best_value_pso_dt_1427doc , mean_value_pso_dt_1427doc , std_value_pso_dt_1427doc"
   ]
  },
  {
   "cell_type": "markdown",
   "metadata": {},
   "source": [
    "---"
   ]
  },
  {
   "cell_type": "code",
   "execution_count": 59,
   "metadata": {},
   "outputs": [
    {
     "data": {
      "text/plain": [
       "(0.54, 0.4816666666666667, 0.03197221015541814)"
      ]
     },
     "execution_count": 59,
     "metadata": {},
     "output_type": "execute_result"
    }
   ],
   "source": [
    "best_value_pso_dt_200doc , mean_value_pso_dt_200doc , std_value_pso_dt_200doc  = return_results_of_dataset(pso_dataset_200)\n",
    "best_value_pso_dt_200doc , mean_value_pso_dt_200doc , std_value_pso_dt_200doc"
   ]
  },
  {
   "cell_type": "markdown",
   "metadata": {},
   "source": [
    "---"
   ]
  },
  {
   "cell_type": "code",
   "execution_count": 60,
   "metadata": {},
   "outputs": [
    {
     "data": {
      "text/plain": [
       "(0.71, 0.4892857142857143, 0.11676987660194153)"
      ]
     },
     "execution_count": 60,
     "metadata": {},
     "output_type": "execute_result"
    }
   ],
   "source": [
    "best_value_pso_dt_100_20news , mean_value_pso_dt_100_20news , std_value_pso_dt_100_20news  = return_results_of_dataset(pso_dataset_100_20news)\n",
    "best_value_pso_dt_100_20news , mean_value_pso_dt_100_20news , std_value_pso_dt_100_20news  "
   ]
  },
  {
   "cell_type": "markdown",
   "metadata": {},
   "source": [
    "---"
   ]
  },
  {
   "cell_type": "code",
   "execution_count": 61,
   "metadata": {},
   "outputs": [
    {
     "name": "stdout",
     "output_type": "stream",
     "text": [
      "+-------------+-----------+----------+----------+-----------+\n",
      "| Algorithm   | Dataset   |     Best |     Mean |       Std |\n",
      "+=============+===========+==========+==========+===========+\n",
      "| PSO         | dataset 1 | 0.700771 | 0.659659 | 0.0262631 |\n",
      "+-------------+-----------+----------+----------+-----------+\n",
      "| PSO         | dataset 4 | 0.54     | 0.481667 | 0.0319722 |\n",
      "+-------------+-----------+----------+----------+-----------+\n",
      "| PSO         | dataset 5 | 0.71     | 0.489286 | 0.11677   |\n",
      "+-------------+-----------+----------+----------+-----------+\n",
      "| SOS         | dataset 1 | 0.822004 | 0.785214 | 0.0268642 |\n",
      "+-------------+-----------+----------+----------+-----------+\n",
      "| SOS         | dataset 4 | 0.745    | 0.703571 | 0.0418086 |\n",
      "+-------------+-----------+----------+----------+-----------+\n",
      "| SOS         | dataset 5 | 0.91     | 0.807143 | 0.0628409 |\n",
      "+-------------+-----------+----------+----------+-----------+\n"
     ]
    }
   ],
   "source": [
    "# Define the results of your algorithms\n",
    "pso_results_20news = {\n",
    "    'dataset 1': {'Best': best_value_pso_dt_1427doc, 'Mean': mean_value_pso_dt_1427doc,\n",
    "                  'Std': std_value_pso_dt_1427doc},\n",
    "    'dataset 4': {'Best': best_value_pso_dt_200doc, 'Mean': mean_value_pso_dt_200doc,\n",
    "                  'Std': std_value_pso_dt_200doc},\n",
    "    'dataset 5': {'Best': best_value_pso_dt_100_20news, 'Mean': mean_value_pso_dt_100_20news,\n",
    "                  'Std': std_value_pso_dt_100_20news}\n",
    "}\n",
    "\n",
    "sos_results_20news = {\n",
    "    'dataset 1': {'Best': best_value_sos_dt_1427doc, 'Mean':mean_value_sos_dt_1427doc, \n",
    "                  'Std':std_value_sos_dt_1427doc},\n",
    "    'dataset 4': {'Best': best_value_sos_dt_200doc, 'Mean': mean_value_sos_dt_200doc,\n",
    "                  'Std': std_value_sos_dt_200doc},\n",
    "    'dataset 5': {'Best': best_value_sos_dt_100_20news, 'Mean':mean_value_sos_dt_100_20news,\n",
    "                  'Std':std_value_sos_dt_100_20news}\n",
    "}\n",
    "\n",
    "# Create a table to display the results\n",
    "table2 = []\n",
    "table2.append(['Algorithm', 'Dataset', 'Best', 'Mean', 'Std'])\n",
    "\n",
    "for dataset in pso_results_20news:\n",
    "    table2.append(['PSO', dataset, pso_results_20news[dataset]['Best'], pso_results_20news[dataset]['Mean'], pso_results_20news[dataset]['Std']])\n",
    "\n",
    "for dataset in sos_results_20news:\n",
    "    table2.append(['SOS', dataset, sos_results_20news[dataset]['Best'], sos_results_20news[dataset]['Mean'], sos_results_20news[dataset]['Std']])\n",
    "\n",
    "\n",
    "# Print the table\n",
    "print(tabulate(table2, headers='firstrow', tablefmt='grid'))"
   ]
  },
  {
   "cell_type": "markdown",
   "metadata": {},
   "source": [
    "---"
   ]
  }
 ],
 "metadata": {
  "kernelspec": {
   "display_name": "env",
   "language": "python",
   "name": "python3"
  },
  "language_info": {
   "codemirror_mode": {
    "name": "ipython",
    "version": 3
   },
   "file_extension": ".py",
   "mimetype": "text/x-python",
   "name": "python",
   "nbconvert_exporter": "python",
   "pygments_lexer": "ipython3",
   "version": "3.10.12"
  }
 },
 "nbformat": 4,
 "nbformat_minor": 2
}
