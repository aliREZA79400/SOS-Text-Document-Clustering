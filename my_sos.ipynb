{
 "cells": [
  {
   "cell_type": "markdown",
   "metadata": {},
   "source": [
    "# Making pairs using population"
   ]
  },
  {
   "cell_type": "code",
   "execution_count": 35,
   "metadata": {},
   "outputs": [
    {
     "name": "stdout",
     "output_type": "stream",
     "text": [
      "[0, 1, 2, 3, 4, 5, 6, 7, 8, 9]\n"
     ]
    }
   ],
   "source": [
    "pop = list(range(10))\n",
    "print(pop)"
   ]
  },
  {
   "cell_type": "code",
   "execution_count": 36,
   "metadata": {},
   "outputs": [],
   "source": [
    "import random \n",
    "random.shuffle(pop)"
   ]
  },
  {
   "cell_type": "code",
   "execution_count": 37,
   "metadata": {},
   "outputs": [
    {
     "name": "stdout",
     "output_type": "stream",
     "text": [
      "[0, 3, 1, 6, 4, 2, 8, 9, 5, 7]\n"
     ]
    }
   ],
   "source": [
    "print(pop)"
   ]
  },
  {
   "cell_type": "code",
   "execution_count": 38,
   "metadata": {},
   "outputs": [
    {
     "name": "stdout",
     "output_type": "stream",
     "text": [
      "pair [0, 3]\n",
      "pair [1, 6]\n",
      "pair [4, 2]\n",
      "pair [8, 9]\n",
      "pair [5, 7]\n"
     ]
    }
   ],
   "source": [
    "for i in range(0,len(pop),2):\n",
    "        print(f\"pair {pop[i:i+2]}\")\n"
   ]
  },
  {
   "cell_type": "code",
   "execution_count": null,
   "metadata": {},
   "outputs": [],
   "source": [
    "import numpy as np\n",
    "from mealpy import Optimizer\n",
    "from mealpy.bio_based import SOS\n",
    "\n",
    "class mySOS(Optimizer):\n",
    "\n",
    "    def __init__(self, epoch=10000, pop_size=100, **kwargs):\n",
    "        super().__init__(**kwargs)\n",
    "        self.epoch = self.validator.check_int(\"epoch\", epoch, [1, 100000])\n",
    "        self.pop_size = self.validator.check_int(\"pop_size\", pop_size, [5, 10000])\n",
    "        self.set_parameters([\"epoch\", \"pop_size\"])\n",
    "        self.is_parallelizable = False\n",
    "        self.sort_flag = False\n",
    "        self.maxit = self.validator.check_int(\"epoch\", epoch, [1, 100000])\n",
    "\n",
    "    def evolve(self, epoch):\n",
    "        \"\"\"\n",
    "        The main operations (equations) of algorithm. Inherit from Optimizer class\n",
    "\n",
    "        Args:\n",
    "            epoch (int): The current iteration\n",
    "        \"\"\"\n",
    "        shuflle_pop = random.shuffle(list(range(0, self.pop_size)))\n",
    "        operators = (\"mutual\",\"parasite\")\n",
    "        for pair in range(0, self.pop_size/2,2):\n",
    "            pair = shuflle_pop[i:i+2]\n",
    "            op = random.choice(operators)\n",
    "            match op :\n",
    "                case \"mutual\" :\n",
    "                    ## Mutualism Phase\n",
    "                    idx , jdx  = pair[0],pair[1]\n",
    "                    mutual_vector = (self.pop[idx].solution + self.pop[jdx].solution) / 2\n",
    "                    bf1, bf2 = self.generator.integers(1, 3, 2)\n",
    "                    xi_new = self.pop[idx].solution + self.generator.random() * (self.g_best.solution - bf1 * mutual_vector)\n",
    "                    xj_new = self.pop[jdx].solution + self.generator.random() * (self.g_best.solution - bf2 * mutual_vector)\n",
    "                    xi_new = self.correct_solution(xi_new)\n",
    "                    xj_new = self.correct_solution(xj_new)\n",
    "                    xi_target = self.get_target(xi_new)\n",
    "                    xj_target = self.get_target(xj_new)\n",
    "                    if self.compare_target(xi_target, self.pop[idx].target, self.problem.minmax):\n",
    "                        self.pop[idx].update(solution=xi_new, target=xi_target)\n",
    "                    if self.compare_target(xj_target, self.pop[jdx].target, self.problem.minmax):\n",
    "                        self.pop[jdx].update(solution=xj_new, target=xj_target)\n",
    "\n",
    "                case \"parasite\" :\n",
    "                        ## Parasitism phase\n",
    "                        idx , jdx = pair[0],pair[1]\n",
    "                        temp_idx = self.generator.integers(0, self.problem.n_dims)\n",
    "                        xi_new = self.pop[jdx].solution.copy()\n",
    "                        xi_new[temp_idx] = self.problem.generate_solution()[temp_idx]\n",
    "                        xi_new = self.correct_solution(xi_new)\n",
    "                        xi_target = self.get_target(xi_new)\n",
    "                        ##changed here from idx to jdx\n",
    "                        if self.compare_target(xi_target, self.pop[jdx].target, self.problem.minmax):\n",
    "                            self.pop[idx].update(solution=xi_new, target=xi_target)\n",
    "\n"
   ]
  },
  {
   "cell_type": "code",
   "execution_count": null,
   "metadata": {},
   "outputs": [],
   "source": []
  }
 ],
 "metadata": {
  "kernelspec": {
   "display_name": "env",
   "language": "python",
   "name": "python3"
  },
  "language_info": {
   "codemirror_mode": {
    "name": "ipython",
    "version": 3
   },
   "file_extension": ".py",
   "mimetype": "text/x-python",
   "name": "python",
   "nbconvert_exporter": "python",
   "pygments_lexer": "ipython3",
   "version": "3.10.12"
  }
 },
 "nbformat": 4,
 "nbformat_minor": 2
}
